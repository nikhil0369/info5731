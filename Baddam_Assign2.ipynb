{
 "cells": [
  {
   "cell_type": "code",
   "execution_count": 1,
   "metadata": {},
   "outputs": [
    {
     "data": {
      "text/plain": [
       "True"
      ]
     },
     "execution_count": 1,
     "metadata": {},
     "output_type": "execute_result"
    }
   ],
   "source": [
    "\"A\".isupper()"
   ]
  },
  {
   "cell_type": "code",
   "execution_count": 2,
   "metadata": {},
   "outputs": [
    {
     "ename": "SyntaxError",
     "evalue": "Missing parentheses in call to 'print'. Did you mean print(\"This is my Python class\")? (<ipython-input-2-6fbff18deb64>, line 1)",
     "output_type": "error",
     "traceback": [
      "\u001b[1;36m  File \u001b[1;32m\"<ipython-input-2-6fbff18deb64>\"\u001b[1;36m, line \u001b[1;32m1\u001b[0m\n\u001b[1;33m    print \"This is my Python class\";\u001b[0m\n\u001b[1;37m                                  ^\u001b[0m\n\u001b[1;31mSyntaxError\u001b[0m\u001b[1;31m:\u001b[0m Missing parentheses in call to 'print'. Did you mean print(\"This is my Python class\")?\n"
     ]
    }
   ],
   "source": [
    "print \"This is my Python class\";"
   ]
  },
  {
   "cell_type": "code",
   "execution_count": 3,
   "metadata": {},
   "outputs": [
    {
     "name": "stdout",
     "output_type": "stream",
     "text": [
      "This is my Python class\n"
     ]
    }
   ],
   "source": [
    "print (\"This is my Python class\"); #always message should be in paranthesis"
   ]
  },
  {
   "cell_type": "code",
   "execution_count": 7,
   "metadata": {},
   "outputs": [
    {
     "ename": "SyntaxError",
     "evalue": "invalid syntax (<ipython-input-7-39e4b26847a7>, line 3)",
     "output_type": "error",
     "traceback": [
      "\u001b[1;36m  File \u001b[1;32m\"<ipython-input-7-39e4b26847a7>\"\u001b[1;36m, line \u001b[1;32m3\u001b[0m\n\u001b[1;33m    x == 1 AND y > x\u001b[0m\n\u001b[1;37m             ^\u001b[0m\n\u001b[1;31mSyntaxError\u001b[0m\u001b[1;31m:\u001b[0m invalid syntax\n"
     ]
    }
   ],
   "source": [
    "x=1\n",
    "y=10\n",
    "x == 1 AND y > x"
   ]
  },
  {
   "cell_type": "code",
   "execution_count": 16,
   "metadata": {},
   "outputs": [
    {
     "data": {
      "text/plain": [
       "True"
      ]
     },
     "execution_count": 16,
     "metadata": {},
     "output_type": "execute_result"
    }
   ],
   "source": [
    "x=1\n",
    "y=10\n",
    "x == 1 and y > x #replace AND with and"
   ]
  },
  {
   "cell_type": "code",
   "execution_count": 18,
   "metadata": {},
   "outputs": [
    {
     "ename": "SyntaxError",
     "evalue": "'return' outside function (<ipython-input-18-59ec2e11b4cd>, line 2)",
     "output_type": "error",
     "traceback": [
      "\u001b[1;36m  File \u001b[1;32m\"<ipython-input-18-59ec2e11b4cd>\"\u001b[1;36m, line \u001b[1;32m2\u001b[0m\n\u001b[1;33m    return t[1:]\u001b[0m\n\u001b[1;37m                ^\u001b[0m\n\u001b[1;31mSyntaxError\u001b[0m\u001b[1;31m:\u001b[0m 'return' outside function\n"
     ]
    }
   ],
   "source": [
    "t= [1,2,3,4,5]\n",
    "return t[1:] #return statement"
   ]
  },
  {
   "cell_type": "code",
   "execution_count": 19,
   "metadata": {},
   "outputs": [
    {
     "ename": "SyntaxError",
     "evalue": "unexpected EOF while parsing (<ipython-input-19-2538f8786a40>, line 1)",
     "output_type": "error",
     "traceback": [
      "\u001b[1;36m  File \u001b[1;32m\"<ipython-input-19-2538f8786a40>\"\u001b[1;36m, line \u001b[1;32m1\u001b[0m\n\u001b[1;33m    if \"fruit\" in \"apple\":\u001b[0m\n\u001b[1;37m                          ^\u001b[0m\n\u001b[1;31mSyntaxError\u001b[0m\u001b[1;31m:\u001b[0m unexpected EOF while parsing\n"
     ]
    }
   ],
   "source": [
    "apple = []\n",
    "if \"fruit\" in \"apple\": #no expression is derived"
   ]
  },
  {
   "cell_type": "code",
   "execution_count": 4,
   "metadata": {},
   "outputs": [
    {
     "ename": "AttributeError",
     "evalue": "'str' object has no attribute 'decode'",
     "output_type": "error",
     "traceback": [
      "\u001b[1;31m---------------------------------------------------------------------------\u001b[0m",
      "\u001b[1;31mAttributeError\u001b[0m                            Traceback (most recent call last)",
      "\u001b[1;32m<ipython-input-4-9ecf5aa5d4de>\u001b[0m in \u001b[0;36m<module>\u001b[1;34m\u001b[0m\n\u001b[0;32m      1\u001b[0m \u001b[1;32mwith\u001b[0m \u001b[0mopen\u001b[0m\u001b[1;33m(\u001b[0m\u001b[1;34m\"myfile.txt\"\u001b[0m\u001b[1;33m,\u001b[0m \u001b[1;34m\"r\"\u001b[0m\u001b[1;33m)\u001b[0m \u001b[1;32mas\u001b[0m \u001b[0mf\u001b[0m\u001b[1;33m:\u001b[0m\u001b[1;33m\u001b[0m\u001b[1;33m\u001b[0m\u001b[0m\n\u001b[1;32m----> 2\u001b[1;33m     \u001b[0mtext\u001b[0m \u001b[1;33m=\u001b[0m \u001b[0mf\u001b[0m\u001b[1;33m.\u001b[0m\u001b[0mread\u001b[0m\u001b[1;33m(\u001b[0m\u001b[1;33m)\u001b[0m\u001b[1;33m.\u001b[0m\u001b[0mdecode\u001b[0m\u001b[1;33m(\u001b[0m\u001b[1;34m\"UTF-8\"\u001b[0m\u001b[1;33m)\u001b[0m\u001b[1;33m\u001b[0m\u001b[1;33m\u001b[0m\u001b[0m\n\u001b[0m",
      "\u001b[1;31mAttributeError\u001b[0m: 'str' object has no attribute 'decode'"
     ]
    }
   ],
   "source": [
    "with open(\"myfile.txt\", \"r\") as f:\n",
    "    text = f.read().decode(\"UTF-8\") #string does not have decode function"
   ]
  },
  {
   "cell_type": "code",
   "execution_count": 1,
   "metadata": {},
   "outputs": [
    {
     "ename": "NameError",
     "evalue": "name 'foo' is not defined",
     "output_type": "error",
     "traceback": [
      "\u001b[1;31m---------------------------------------------------------------------------\u001b[0m",
      "\u001b[1;31mNameError\u001b[0m                                 Traceback (most recent call last)",
      "\u001b[1;32m<ipython-input-1-7c1055c5049e>\u001b[0m in \u001b[0;36m<module>\u001b[1;34m\u001b[0m\n\u001b[1;32m----> 1\u001b[1;33m \u001b[0mfoo\u001b[0m \u001b[1;33m==\u001b[0m \u001b[1;32mNone\u001b[0m\u001b[1;33m\u001b[0m\u001b[1;33m\u001b[0m\u001b[0m\n\u001b[0m",
      "\u001b[1;31mNameError\u001b[0m: name 'foo' is not defined"
     ]
    }
   ],
   "source": [
    "foo == None #no value is assigned to foo"
   ]
  },
  {
   "cell_type": "code",
   "execution_count": 3,
   "metadata": {},
   "outputs": [
    {
     "ename": "TypeError",
     "evalue": "'str' object does not support item assignment",
     "output_type": "error",
     "traceback": [
      "\u001b[1;31m---------------------------------------------------------------------------\u001b[0m",
      "\u001b[1;31mTypeError\u001b[0m                                 Traceback (most recent call last)",
      "\u001b[1;32m<ipython-input-3-9bb4e55a7bde>\u001b[0m in \u001b[0;36m<module>\u001b[1;34m\u001b[0m\n\u001b[0;32m      1\u001b[0m \u001b[0mname\u001b[0m \u001b[1;33m=\u001b[0m \u001b[1;34m\"My name is Brenda\"\u001b[0m\u001b[1;33m\u001b[0m\u001b[1;33m\u001b[0m\u001b[0m\n\u001b[1;32m----> 2\u001b[1;33m \u001b[0mname\u001b[0m\u001b[1;33m[\u001b[0m\u001b[1;36m0\u001b[0m\u001b[1;33m]\u001b[0m \u001b[1;33m=\u001b[0m \u001b[1;34m\"A\"\u001b[0m\u001b[1;33m\u001b[0m\u001b[1;33m\u001b[0m\u001b[0m\n\u001b[0m",
      "\u001b[1;31mTypeError\u001b[0m: 'str' object does not support item assignment"
     ]
    }
   ],
   "source": [
    "name = \"My name is Brenda\"\n",
    "name[0] = \"A\"  #string is immutable in python"
   ]
  },
  {
   "cell_type": "code",
   "execution_count": 4,
   "metadata": {},
   "outputs": [
    {
     "data": {
      "text/plain": [
       "27"
      ]
     },
     "execution_count": 4,
     "metadata": {},
     "output_type": "execute_result"
    }
   ],
   "source": [
    "x = 3\n",
    "x**3 #exponential operator is used here"
   ]
  },
  {
   "cell_type": "code",
   "execution_count": 5,
   "metadata": {},
   "outputs": [
    {
     "data": {
      "text/plain": [
       "6"
      ]
     },
     "execution_count": 5,
     "metadata": {},
     "output_type": "execute_result"
    }
   ],
   "source": [
    "20%7 #modulus is used here which gives the remainder of the expression"
   ]
  },
  {
   "cell_type": "code",
   "execution_count": 1,
   "metadata": {},
   "outputs": [
    {
     "name": "stdout",
     "output_type": "stream",
     "text": [
      "Enter score: 120\n",
      "please enter scores between 0 to 100\n"
     ]
    }
   ],
   "source": [
    "marks = int(input(\"Enter score: \")) #asking user to enter score\n",
    "grade = \"\";\n",
    "if marks >= 0 and marks <= 100: #validating the entered score is with in scope or not\n",
    "    if marks >= 90:\n",
    "        grade = 'A';\n",
    "    elif marks >= 80:\n",
    "        grade = 'B';\n",
    "    elif marks >= 70:\n",
    "        grade = 'C';\n",
    "    elif marks >= 60:\n",
    "        grade = 'D';\n",
    "    else:\n",
    "        grade = 'F';\n",
    "    print(\"grade = \",grade);\n",
    "else:                      #out of range scores are dealt with a error message\n",
    "    print(\"please enter scores between 0 to 100\");"
   ]
  },
  {
   "cell_type": "code",
   "execution_count": 2,
   "metadata": {},
   "outputs": [
    {
     "name": "stdout",
     "output_type": "stream",
     "text": [
      "Randomly generated list with  [14, 33, 60, 23, 32, 43, 34, 17, 98, 38, 14, 92]\n",
      "Ascending order= [14, 14, 17, 23, 32, 33, 34, 38, 43, 60, 92, 98]\n",
      "Descending order =  [98, 92, 60, 43, 38, 34, 33, 32, 23, 17, 14, 14]\n",
      "Average =  41.5\n"
     ]
    }
   ],
   "source": [
    "import random\n",
    "myList = [];\n",
    "for i in range(1,13):\n",
    "    myList.append(random.randint(1,101));\n",
    "    \n",
    "print(\"Randomly generated list with \",myList);    \n",
    "\n",
    "myList.sort();\n",
    "print(\"Ascending order=\",myList);\n",
    "\n",
    "myList.sort(reverse=True);\n",
    "print(\"Descending order = \",myList);\n",
    "\n",
    "print(\"Average = \",sum(myList)/len(myList));"
   ]
  },
  {
   "cell_type": "code",
   "execution_count": 3,
   "metadata": {},
   "outputs": [
    {
     "name": "stdout",
     "output_type": "stream",
     "text": [
      "4.1887902047863905\n",
      "33.510321638291124\n",
      "113.09733552923255\n",
      "268.082573106329\n",
      "523.5987755982989\n",
      "904.7786842338604\n",
      "1436.755040241732\n",
      "2144.660584850632\n",
      "3053.628059289279\n",
      "4188.790204786391\n"
     ]
    }
   ],
   "source": [
    "import math\n",
    "def volume(radius):\n",
    "    return (4/3) * math.pi * radius* radius* radius;\n",
    "for r in range(1,11):    \n",
    "    print(volume(r));"
   ]
  },
  {
   "cell_type": "code",
   "execution_count": 4,
   "metadata": {},
   "outputs": [
    {
     "name": "stdout",
     "output_type": "stream",
     "text": [
      "Enter 2 sentences one by one:\n",
      "List 1 =  ['hello', 'hi', 'how,', 'a;re', ',.you']\n",
      "List 2 =  ['Yo', 'man', 'hi']\n",
      "Common words in both sentences list =  ['hi']\n",
      "Sentence 1 after removing punctuations =  hello hi how are you\n",
      "Sentence 2 after removing punctuations =  Yo man hi\n",
      "Sentence  1 vowels = a: 1  e: 2  i: 1  o: 3  u: 1\n",
      "Sentence  1 vowels = a: 1  e: 0  i: 1  o: 1  u: 0\n"
     ]
    }
   ],
   "source": [
    "print(\"Enter 2 sentences one by one:\");\n",
    "#sent1 = input();\n",
    "#sent2 = input();\n",
    "\n",
    "sent1 = \"hello hi how, a;re ,.you\"\n",
    "sent2 = \"Yo man hi\"\n",
    "\n",
    "list1 = sent1.split();\n",
    "list2 = sent2.split();\n",
    "\n",
    "print(\"List 1 = \",list1);\n",
    "print(\"List 2 = \",list2);\n",
    "\n",
    "s1 = set(list1);\n",
    "s2 = set(list2);\n",
    "\n",
    "print(\"Common words in both sentences list = \",list(s1.intersection(s2)));\n",
    "\n",
    "def removePunc(sentence):\n",
    "    s1NoPunc = \"\"\n",
    "    for c in sentence:\n",
    "        if c == ',' or c=='.' or c==';' or c==':':\n",
    "              ;\n",
    "        else: \n",
    "            s1NoPunc = s1NoPunc + c;\n",
    "    return s1NoPunc;\n",
    "\n",
    "print(\"Sentence 1 after removing punctuations = \",removePunc(sent1));\n",
    "print(\"Sentence 2 after removing punctuations = \",removePunc(sent2));\n",
    "\n",
    "\n",
    "def countVowel(sent, num):\n",
    "    a=0; e=0; i=0; o=0; u=0;\n",
    "    for c in sent:\n",
    "        if c =='a':\n",
    "            a += 1;\n",
    "        elif c == 'e':\n",
    "            e+=1;\n",
    "        elif c == 'i':\n",
    "            i+=1;\n",
    "        elif c == 'o':\n",
    "            o+=1;\n",
    "        elif c == 'u':\n",
    "            u+=1;\n",
    "    print(\"Sentence \",num,\"vowels = a:\",a,\" e:\",e,\" i:\",i,\" o:\",o,\" u:\",u);\n",
    "\n",
    "countVowel(sent1, 1);\n",
    "countVowel(sent2, 1);"
   ]
  },
  {
   "cell_type": "code",
   "execution_count": null,
   "metadata": {},
   "outputs": [],
   "source": []
  }
 ],
 "metadata": {
  "kernelspec": {
   "display_name": "Python 3",
   "language": "python",
   "name": "python3"
  },
  "language_info": {
   "codemirror_mode": {
    "name": "ipython",
    "version": 3
   },
   "file_extension": ".py",
   "mimetype": "text/x-python",
   "name": "python",
   "nbconvert_exporter": "python",
   "pygments_lexer": "ipython3",
   "version": "3.7.1"
  }
 },
 "nbformat": 4,
 "nbformat_minor": 2
}
