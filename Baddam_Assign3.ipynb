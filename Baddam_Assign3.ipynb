{
  "nbformat": 4,
  "nbformat_minor": 0,
  "metadata": {
    "colab": {
      "name": "Assignment 3.ipynb",
      "version": "0.3.2",
      "provenance": [],
      "collapsed_sections": []
    },
    "kernelspec": {
      "name": "python3",
      "display_name": "Python 3"
    }
  },
  "cells": [
    {
      "metadata": {
        "id": "9GLEkynozH-d",
        "colab_type": "text"
      },
      "cell_type": "markdown",
      "source": [
        "# Assignment 3\n",
        "\n",
        "In this assignment, you will try to gather information from open data via API and visualize them.\n",
        "\n",
        "We will use the API from wikipedia as an example.\n",
        "\n",
        "Please go to [this web page](https://wikitech.wikimedia.org/wiki/Analytics/AQS/Pageviews), to learn how to get Pageviews of a certain wikipedia page.\n",
        "\n",
        "![](https://github.com/wshuyi/github_pub_img/raw/master/assets/2019-02-13-10-57-35-202134.png)\n",
        "\n",
        "As you can see here, to get a pageview count timeseries of en.wikipedia's article \"[Albert Enstein](https://en.wikipedia.org/wiki/Albert_Einstein)\" for the month of October 2015, you can use the following url with a \"GET\" method.\n",
        "\n",
        "[https://wikimedia.org/api/rest\\_v1/metrics/pageviews/per-article/en.wikipedia/all-access/all-agents/Albert\\_Einstein/daily/2015100100/2015103100](https://wikimedia.org/api/rest_v1/metrics/pageviews/per-article/en.wikipedia/all-access/all-agents/Albert_Einstein/daily/2015100100/2015103100)\n",
        "\n",
        "Your task, is to get Pageviews count timeseries of en.wikipedia's article \"[University of North Texas](https://en.wikipedia.org/wiki/University_of_North_Texas)\" for the month of January 2019.\n",
        "\n",
        "\n",
        "![](https://github.com/wshuyi/github_pub_img/raw/master/assets/2019-02-13-10-57-35-210502.png)\n",
        "\n",
        "Please answer the following questions by putting your code in the corresponding chunks. You can create new code or text chunks if necessary.\n",
        "\n"
      ]
    },
    {
      "metadata": {
        "id": "ySIA8u72zPIc",
        "colab_type": "text"
      },
      "cell_type": "markdown",
      "source": [
        "**Question 1. (20 points)** Make the corresponding url to gather the required data, and save it into a variable called 'url'.\n",
        "\n"
      ]
    },
    {
      "metadata": {
        "id": "NDBkVHDlzRtp",
        "colab_type": "code",
        "colab": {}
      },
      "cell_type": "code",
      "source": [
        "# to do: your code here\n",
        "url='https://wikimedia.org/api/rest_v1/metrics/pageviews/per-article/en.wikipedia.org/all-access/all-agents/University_of_North_Texas/daily/2019010100/2019013100'"
      ],
      "execution_count": 0,
      "outputs": []
    },
    {
      "metadata": {
        "id": "9dQcHDnvzR_m",
        "colab_type": "text"
      },
      "cell_type": "markdown",
      "source": [
        "**Question 2. (20 points)** Call the API by using the url you created in Question 1, and print out the JSON data. (If you are not familiar with JSON format, please follow [this link](https://en.wikipedia.org/wiki/JSON). Also, you can visit [this link](https://www.w3schools.com/python/python_json.asp) to know how to operate on JSON data with Python. )\n",
        "\n",
        "![](https://github.com/wshuyi/github_pub_img/raw/master/assets/2019-02-13-10-57-35-196474.png)\n",
        "\n"
      ]
    },
    {
      "metadata": {
        "id": "UwObkLeozTxU",
        "colab_type": "code",
        "colab": {
          "base_uri": "https://localhost:8080/",
          "height": 54
        },
        "outputId": "8e036b8b-8b8b-4492-c38c-a08fb11dda79"
      },
      "cell_type": "code",
      "source": [
        "# to do: your code here\n",
        "import json\n",
        "import requests\n",
        "a = requests.get(url)\n",
        "b = a.json()\n",
        "print(b)"
      ],
      "execution_count": 3,
      "outputs": [
        {
          "output_type": "stream",
          "text": [
            "{'items': [{'project': 'en.wikipedia', 'article': 'University_of_North_Texas', 'granularity': 'daily', 'timestamp': '2019010100', 'access': 'all-access', 'agent': 'all-agents', 'views': 732}, {'project': 'en.wikipedia', 'article': 'University_of_North_Texas', 'granularity': 'daily', 'timestamp': '2019010200', 'access': 'all-access', 'agent': 'all-agents', 'views': 834}, {'project': 'en.wikipedia', 'article': 'University_of_North_Texas', 'granularity': 'daily', 'timestamp': '2019010300', 'access': 'all-access', 'agent': 'all-agents', 'views': 821}, {'project': 'en.wikipedia', 'article': 'University_of_North_Texas', 'granularity': 'daily', 'timestamp': '2019010400', 'access': 'all-access', 'agent': 'all-agents', 'views': 719}, {'project': 'en.wikipedia', 'article': 'University_of_North_Texas', 'granularity': 'daily', 'timestamp': '2019010500', 'access': 'all-access', 'agent': 'all-agents', 'views': 672}, {'project': 'en.wikipedia', 'article': 'University_of_North_Texas', 'granularity': 'daily', 'timestamp': '2019010600', 'access': 'all-access', 'agent': 'all-agents', 'views': 676}, {'project': 'en.wikipedia', 'article': 'University_of_North_Texas', 'granularity': 'daily', 'timestamp': '2019010700', 'access': 'all-access', 'agent': 'all-agents', 'views': 632}, {'project': 'en.wikipedia', 'article': 'University_of_North_Texas', 'granularity': 'daily', 'timestamp': '2019010800', 'access': 'all-access', 'agent': 'all-agents', 'views': 788}, {'project': 'en.wikipedia', 'article': 'University_of_North_Texas', 'granularity': 'daily', 'timestamp': '2019010900', 'access': 'all-access', 'agent': 'all-agents', 'views': 712}, {'project': 'en.wikipedia', 'article': 'University_of_North_Texas', 'granularity': 'daily', 'timestamp': '2019011000', 'access': 'all-access', 'agent': 'all-agents', 'views': 673}, {'project': 'en.wikipedia', 'article': 'University_of_North_Texas', 'granularity': 'daily', 'timestamp': '2019011100', 'access': 'all-access', 'agent': 'all-agents', 'views': 784}, {'project': 'en.wikipedia', 'article': 'University_of_North_Texas', 'granularity': 'daily', 'timestamp': '2019011200', 'access': 'all-access', 'agent': 'all-agents', 'views': 663}, {'project': 'en.wikipedia', 'article': 'University_of_North_Texas', 'granularity': 'daily', 'timestamp': '2019011300', 'access': 'all-access', 'agent': 'all-agents', 'views': 685}, {'project': 'en.wikipedia', 'article': 'University_of_North_Texas', 'granularity': 'daily', 'timestamp': '2019011400', 'access': 'all-access', 'agent': 'all-agents', 'views': 752}, {'project': 'en.wikipedia', 'article': 'University_of_North_Texas', 'granularity': 'daily', 'timestamp': '2019011500', 'access': 'all-access', 'agent': 'all-agents', 'views': 731}, {'project': 'en.wikipedia', 'article': 'University_of_North_Texas', 'granularity': 'daily', 'timestamp': '2019011600', 'access': 'all-access', 'agent': 'all-agents', 'views': 779}, {'project': 'en.wikipedia', 'article': 'University_of_North_Texas', 'granularity': 'daily', 'timestamp': '2019011700', 'access': 'all-access', 'agent': 'all-agents', 'views': 779}, {'project': 'en.wikipedia', 'article': 'University_of_North_Texas', 'granularity': 'daily', 'timestamp': '2019011800', 'access': 'all-access', 'agent': 'all-agents', 'views': 616}, {'project': 'en.wikipedia', 'article': 'University_of_North_Texas', 'granularity': 'daily', 'timestamp': '2019011900', 'access': 'all-access', 'agent': 'all-agents', 'views': 502}, {'project': 'en.wikipedia', 'article': 'University_of_North_Texas', 'granularity': 'daily', 'timestamp': '2019012000', 'access': 'all-access', 'agent': 'all-agents', 'views': 487}, {'project': 'en.wikipedia', 'article': 'University_of_North_Texas', 'granularity': 'daily', 'timestamp': '2019012100', 'access': 'all-access', 'agent': 'all-agents', 'views': 505}, {'project': 'en.wikipedia', 'article': 'University_of_North_Texas', 'granularity': 'daily', 'timestamp': '2019012200', 'access': 'all-access', 'agent': 'all-agents', 'views': 567}, {'project': 'en.wikipedia', 'article': 'University_of_North_Texas', 'granularity': 'daily', 'timestamp': '2019012300', 'access': 'all-access', 'agent': 'all-agents', 'views': 537}, {'project': 'en.wikipedia', 'article': 'University_of_North_Texas', 'granularity': 'daily', 'timestamp': '2019012400', 'access': 'all-access', 'agent': 'all-agents', 'views': 504}, {'project': 'en.wikipedia', 'article': 'University_of_North_Texas', 'granularity': 'daily', 'timestamp': '2019012500', 'access': 'all-access', 'agent': 'all-agents', 'views': 574}, {'project': 'en.wikipedia', 'article': 'University_of_North_Texas', 'granularity': 'daily', 'timestamp': '2019012600', 'access': 'all-access', 'agent': 'all-agents', 'views': 430}, {'project': 'en.wikipedia', 'article': 'University_of_North_Texas', 'granularity': 'daily', 'timestamp': '2019012700', 'access': 'all-access', 'agent': 'all-agents', 'views': 412}, {'project': 'en.wikipedia', 'article': 'University_of_North_Texas', 'granularity': 'daily', 'timestamp': '2019012800', 'access': 'all-access', 'agent': 'all-agents', 'views': 486}, {'project': 'en.wikipedia', 'article': 'University_of_North_Texas', 'granularity': 'daily', 'timestamp': '2019012900', 'access': 'all-access', 'agent': 'all-agents', 'views': 605}, {'project': 'en.wikipedia', 'article': 'University_of_North_Texas', 'granularity': 'daily', 'timestamp': '2019013000', 'access': 'all-access', 'agent': 'all-agents', 'views': 515}, {'project': 'en.wikipedia', 'article': 'University_of_North_Texas', 'granularity': 'daily', 'timestamp': '2019013100', 'access': 'all-access', 'agent': 'all-agents', 'views': 489}]}\n"
          ],
          "name": "stdout"
        }
      ]
    },
    {
      "metadata": {
        "id": "TNrhAwQLzVII",
        "colab_type": "text"
      },
      "cell_type": "markdown",
      "source": [
        "**Question 3. (20 points)** Load the JSON data into Pandas Dataframe, and show the first five rows.\n",
        "\n",
        "![](https://github.com/wshuyi/github_pub_img/raw/master/assets/2019-02-13-10-57-35-214261.png)\n",
        "\n"
      ]
    },
    {
      "metadata": {
        "id": "ndFJH614zFog",
        "colab_type": "code",
        "colab": {
          "base_uri": "https://localhost:8080/",
          "height": 204
        },
        "outputId": "7c0c1ffc-9ef6-40a4-cc57-317c110900cf"
      },
      "cell_type": "code",
      "source": [
        "# to do: your code here\n",
        "import pandas as pd\n",
        "\n",
        "i = list(b.values())\n",
        "view = pd.DataFrame(i[0])\n",
        "view.head()"
      ],
      "execution_count": 4,
      "outputs": [
        {
          "output_type": "execute_result",
          "data": {
            "text/html": [
              "<div>\n",
              "<style scoped>\n",
              "    .dataframe tbody tr th:only-of-type {\n",
              "        vertical-align: middle;\n",
              "    }\n",
              "\n",
              "    .dataframe tbody tr th {\n",
              "        vertical-align: top;\n",
              "    }\n",
              "\n",
              "    .dataframe thead th {\n",
              "        text-align: right;\n",
              "    }\n",
              "</style>\n",
              "<table border=\"1\" class=\"dataframe\">\n",
              "  <thead>\n",
              "    <tr style=\"text-align: right;\">\n",
              "      <th></th>\n",
              "      <th>access</th>\n",
              "      <th>agent</th>\n",
              "      <th>article</th>\n",
              "      <th>granularity</th>\n",
              "      <th>project</th>\n",
              "      <th>timestamp</th>\n",
              "      <th>views</th>\n",
              "    </tr>\n",
              "  </thead>\n",
              "  <tbody>\n",
              "    <tr>\n",
              "      <th>0</th>\n",
              "      <td>all-access</td>\n",
              "      <td>all-agents</td>\n",
              "      <td>University_of_North_Texas</td>\n",
              "      <td>daily</td>\n",
              "      <td>en.wikipedia</td>\n",
              "      <td>2019010100</td>\n",
              "      <td>732</td>\n",
              "    </tr>\n",
              "    <tr>\n",
              "      <th>1</th>\n",
              "      <td>all-access</td>\n",
              "      <td>all-agents</td>\n",
              "      <td>University_of_North_Texas</td>\n",
              "      <td>daily</td>\n",
              "      <td>en.wikipedia</td>\n",
              "      <td>2019010200</td>\n",
              "      <td>834</td>\n",
              "    </tr>\n",
              "    <tr>\n",
              "      <th>2</th>\n",
              "      <td>all-access</td>\n",
              "      <td>all-agents</td>\n",
              "      <td>University_of_North_Texas</td>\n",
              "      <td>daily</td>\n",
              "      <td>en.wikipedia</td>\n",
              "      <td>2019010300</td>\n",
              "      <td>821</td>\n",
              "    </tr>\n",
              "    <tr>\n",
              "      <th>3</th>\n",
              "      <td>all-access</td>\n",
              "      <td>all-agents</td>\n",
              "      <td>University_of_North_Texas</td>\n",
              "      <td>daily</td>\n",
              "      <td>en.wikipedia</td>\n",
              "      <td>2019010400</td>\n",
              "      <td>719</td>\n",
              "    </tr>\n",
              "    <tr>\n",
              "      <th>4</th>\n",
              "      <td>all-access</td>\n",
              "      <td>all-agents</td>\n",
              "      <td>University_of_North_Texas</td>\n",
              "      <td>daily</td>\n",
              "      <td>en.wikipedia</td>\n",
              "      <td>2019010500</td>\n",
              "      <td>672</td>\n",
              "    </tr>\n",
              "  </tbody>\n",
              "</table>\n",
              "</div>"
            ],
            "text/plain": [
              "       access       agent                    article granularity  \\\n",
              "0  all-access  all-agents  University_of_North_Texas       daily   \n",
              "1  all-access  all-agents  University_of_North_Texas       daily   \n",
              "2  all-access  all-agents  University_of_North_Texas       daily   \n",
              "3  all-access  all-agents  University_of_North_Texas       daily   \n",
              "4  all-access  all-agents  University_of_North_Texas       daily   \n",
              "\n",
              "        project   timestamp  views  \n",
              "0  en.wikipedia  2019010100    732  \n",
              "1  en.wikipedia  2019010200    834  \n",
              "2  en.wikipedia  2019010300    821  \n",
              "3  en.wikipedia  2019010400    719  \n",
              "4  en.wikipedia  2019010500    672  "
            ]
          },
          "metadata": {
            "tags": []
          },
          "execution_count": 4
        }
      ]
    },
    {
      "metadata": {
        "id": "qT1mjIAFzWs5",
        "colab_type": "text"
      },
      "cell_type": "markdown",
      "source": [
        "**Question 4. (20 points)** Figure out the max and min views and corresponding date.\n",
        "\n",
        "![](https://github.com/wshuyi/github_pub_img/raw/master/assets/2019-02-13-10-57-35-195410.png)\n",
        "\n",
        "![](https://github.com/wshuyi/github_pub_img/raw/master/assets/2019-02-13-10-57-35-197160.png)\n",
        "\n"
      ]
    },
    {
      "metadata": {
        "id": "92z6TdkxzX3p",
        "colab_type": "code",
        "colab": {
          "base_uri": "https://localhost:8080/",
          "height": 119
        },
        "outputId": "65943ae8-bc31-4d01-8813-f93b0526e8d9"
      },
      "cell_type": "code",
      "source": [
        "# to do: your code here\n",
        "\n",
        "df=view[['timestamp', 'views']]\n",
        "max=view['views'].idxmax()\n",
        "min=view['views'].idxmin()\n",
        "print (df.loc[max])\n",
        "print (df.loc[min])"
      ],
      "execution_count": 5,
      "outputs": [
        {
          "output_type": "stream",
          "text": [
            "timestamp    2019010200\n",
            "views               834\n",
            "Name: 1, dtype: object\n",
            "timestamp    2019012700\n",
            "views               412\n",
            "Name: 26, dtype: object\n"
          ],
          "name": "stdout"
        }
      ]
    },
    {
      "metadata": {
        "id": "5YNmlvXkzYXC",
        "colab_type": "text"
      },
      "cell_type": "markdown",
      "source": [
        "**Question 5. (20 points)** Plot line chart of Pageviews for the whole month.\n",
        "\n",
        "![](https://github.com/wshuyi/github_pub_img/raw/master/assets/2019-02-13-10-57-35-197005.png)\n"
      ]
    },
    {
      "metadata": {
        "id": "w_SMnicQzY1Q",
        "colab_type": "code",
        "colab": {
          "base_uri": "https://localhost:8080/",
          "height": 311
        },
        "outputId": "63c27ac2-bc0c-4c63-dd76-aad6a338c1c9"
      },
      "cell_type": "code",
      "source": [
        "# to do: your code here\n",
        "%matplotlib inline\n",
        "view.views.plot()\n",
        "import matplotlib.pyplot as plt\n",
        "view.views.plot()\n",
        "plt.ylabel('views')\n",
        "plt.title('feb', loc='right', y=-0.2)\n",
        "plt.title('Jan 2019', loc='left', y=-0.2)\n",
        "plt.title('date', y=-0.3)\n",
        "plt.xticks([31,7,14,21,28])\n",
        "plt.show()"
      ],
      "execution_count": 6,
      "outputs": [
        {
          "output_type": "display_data",
          "data": {
            "image/png": "[encoded data removed]",
            "text/plain": [
              "<Figure size 432x288 with 1 Axes>"
            ]
          },
          "metadata": {
            "tags": []
          }
        }
      ]
    },
    {
      "metadata": {
        "id": "KH2ia5Yg4znd",
        "colab_type": "code",
        "colab": {}
      },
      "cell_type": "code",
      "source": [
        ""
      ],
      "execution_count": 0,
      "outputs": []
    }
  ]
}