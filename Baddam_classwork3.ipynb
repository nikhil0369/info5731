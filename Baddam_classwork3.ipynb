{
 "cells": [
  {
   "cell_type": "markdown",
   "metadata": {
    "colab_type": "text",
    "id": "pYrY2Fl1pvwx"
   },
   "source": [
    "# Class work 3: Text Classification on IMDB review samples"
   ]
  },
  {
   "cell_type": "markdown",
   "metadata": {
    "colab_type": "text",
    "id": "fx6U7fk7sRz-"
   },
   "source": [
    "## Data loading"
   ]
  },
  {
   "cell_type": "markdown",
   "metadata": {
    "colab_type": "text",
    "id": "pkoTrpCUpeCz"
   },
   "source": [
    "**Question 1: (10 points)**\n",
    "\n",
    "Go to [this link](https://unt.instructure.com/courses/12025/files/2443720/download?download_frd=1) to download the data file and upload it to Google Colab. And then run the following commands:"
   ]
  },
  {
   "cell_type": "code",
   "execution_count": 0,
   "metadata": {
    "colab": {},
    "colab_type": "code",
    "id": "NIK8xVzmsR0C"
   },
   "outputs": [],
   "source": [
    "import pickle\n",
    "import pandas as pd"
   ]
  },
  {
   "cell_type": "code",
   "execution_count": 0,
   "metadata": {
    "colab": {},
    "colab_type": "code",
    "id": "egds4jV6sR0K"
   },
   "outputs": [],
   "source": [
    "with open('imdb-review.pickle', 'rb') as f:\n",
    "    train, test = pickle.load(f)"
   ]
  },
  {
   "cell_type": "code",
   "execution_count": 40,
   "metadata": {
    "colab": {
     "base_uri": "https://localhost:8080/",
     "height": 204
    },
    "colab_type": "code",
    "id": "uouUbO1_s0Tj",
    "outputId": "ecb86a70-6416-45a8-c602-1ffe05c1f90d"
   },
   "outputs": [
    {
     "data": {
      "text/html": [
       "<div>\n",
       "<style scoped>\n",
       "    .dataframe tbody tr th:only-of-type {\n",
       "        vertical-align: middle;\n",
       "    }\n",
       "\n",
       "    .dataframe tbody tr th {\n",
       "        vertical-align: top;\n",
       "    }\n",
       "\n",
       "    .dataframe thead th {\n",
       "        text-align: right;\n",
       "    }\n",
       "</style>\n",
       "<table border=\"1\" class=\"dataframe\">\n",
       "  <thead>\n",
       "    <tr style=\"text-align: right;\">\n",
       "      <th></th>\n",
       "      <th>text</th>\n",
       "      <th>sentiment</th>\n",
       "    </tr>\n",
       "  </thead>\n",
       "  <tbody>\n",
       "    <tr>\n",
       "      <th>0</th>\n",
       "      <td>For a movie that gets no respect there sure ar...</td>\n",
       "      <td>1</td>\n",
       "    </tr>\n",
       "    <tr>\n",
       "      <th>1</th>\n",
       "      <td>Bizarre horror movie filled with famous faces ...</td>\n",
       "      <td>1</td>\n",
       "    </tr>\n",
       "    <tr>\n",
       "      <th>2</th>\n",
       "      <td>A solid, if unremarkable film. Matthau, as Ein...</td>\n",
       "      <td>1</td>\n",
       "    </tr>\n",
       "    <tr>\n",
       "      <th>3</th>\n",
       "      <td>It's a strange feeling to sit alone in a theat...</td>\n",
       "      <td>1</td>\n",
       "    </tr>\n",
       "    <tr>\n",
       "      <th>4</th>\n",
       "      <td>You probably all already know this by now, but...</td>\n",
       "      <td>1</td>\n",
       "    </tr>\n",
       "  </tbody>\n",
       "</table>\n",
       "</div>"
      ],
      "text/plain": [
       "                                                text  sentiment\n",
       "0  For a movie that gets no respect there sure ar...          1\n",
       "1  Bizarre horror movie filled with famous faces ...          1\n",
       "2  A solid, if unremarkable film. Matthau, as Ein...          1\n",
       "3  It's a strange feeling to sit alone in a theat...          1\n",
       "4  You probably all already know this by now, but...          1"
      ]
     },
     "execution_count": 40,
     "metadata": {
      "tags": []
     },
     "output_type": "execute_result"
    }
   ],
   "source": [
    "train.head()"
   ]
  },
  {
   "cell_type": "markdown",
   "metadata": {
    "colab_type": "text",
    "id": "dxo7XSyQtfHC"
   },
   "source": [
    "You should see the output like this:"
   ]
  },
  {
   "cell_type": "markdown",
   "metadata": {
    "colab_type": "text",
    "id": "T1jOySWDti2p"
   },
   "source": [
    "![](https://github.com/wshuyi/github_pub_img/raw/master/assets/2019-03-25-21-22-19-073406.png)"
   ]
  },
  {
   "cell_type": "markdown",
   "metadata": {
    "colab_type": "text",
    "id": "i9Vi5TQRsR0P"
   },
   "source": [
    "## sampling\n"
   ]
  },
  {
   "cell_type": "markdown",
   "metadata": {
    "colab_type": "text",
    "id": "eXQ2iWF2sR0Q"
   },
   "source": [
    "**Question 2: (10 points)**\n",
    "\n",
    "Sample **2000** rows from original training set. 1000 positive, 1000 negative. To keep all your result identical, please use **`random_state=1`** while sampling. Reset the index of generated data frame, and save it to **`train`**. (Hint: you can refer to[ this document](https://pandas.pydata.org/pandas-docs/stable/reference/api/pandas.DataFrame.sample.html).)\n",
    "\n",
    "\n",
    "\n",
    "\n"
   ]
  },
  {
   "cell_type": "code",
   "execution_count": 67,
   "metadata": {
    "colab": {
     "base_uri": "https://localhost:8080/",
     "height": 1969
    },
    "colab_type": "code",
    "id": "AlGynFk0sR0S",
    "outputId": "25ebe2f4-c100-4103-8d3f-cdbf7cc3b790"
   },
   "outputs": [
    {
     "data": {
      "text/html": [
       "<div>\n",
       "<style scoped>\n",
       "    .dataframe tbody tr th:only-of-type {\n",
       "        vertical-align: middle;\n",
       "    }\n",
       "\n",
       "    .dataframe tbody tr th {\n",
       "        vertical-align: top;\n",
       "    }\n",
       "\n",
       "    .dataframe thead th {\n",
       "        text-align: right;\n",
       "    }\n",
       "</style>\n",
       "<table border=\"1\" class=\"dataframe\">\n",
       "  <thead>\n",
       "    <tr style=\"text-align: right;\">\n",
       "      <th></th>\n",
       "      <th>index</th>\n",
       "      <th>text</th>\n",
       "      <th>sentiment</th>\n",
       "    </tr>\n",
       "  </thead>\n",
       "  <tbody>\n",
       "    <tr>\n",
       "      <th>0</th>\n",
       "      <td>4300</td>\n",
       "      <td>I have watched this episode more often than an...</td>\n",
       "      <td>1</td>\n",
       "    </tr>\n",
       "    <tr>\n",
       "      <th>1</th>\n",
       "      <td>9536</td>\n",
       "      <td>As many reviewers here have noted, the film ve...</td>\n",
       "      <td>1</td>\n",
       "    </tr>\n",
       "    <tr>\n",
       "      <th>2</th>\n",
       "      <td>813</td>\n",
       "      <td>At first,this movie seems so bad that i almost...</td>\n",
       "      <td>1</td>\n",
       "    </tr>\n",
       "    <tr>\n",
       "      <th>3</th>\n",
       "      <td>11248</td>\n",
       "      <td>Was this based on a comic-book? A video-game? ...</td>\n",
       "      <td>1</td>\n",
       "    </tr>\n",
       "    <tr>\n",
       "      <th>4</th>\n",
       "      <td>1436</td>\n",
       "      <td>Melissa Joan Hart shines! This show is amazing...</td>\n",
       "      <td>1</td>\n",
       "    </tr>\n",
       "    <tr>\n",
       "      <th>5</th>\n",
       "      <td>4804</td>\n",
       "      <td>So this made for TV film scores only a 7.6 on ...</td>\n",
       "      <td>1</td>\n",
       "    </tr>\n",
       "    <tr>\n",
       "      <th>6</th>\n",
       "      <td>4779</td>\n",
       "      <td>me and my sister use to rent this every time w...</td>\n",
       "      <td>1</td>\n",
       "    </tr>\n",
       "    <tr>\n",
       "      <th>7</th>\n",
       "      <td>4642</td>\n",
       "      <td>\"THINGS TO COME\" Movie Review by kWRice&lt;br /&gt;&lt;...</td>\n",
       "      <td>1</td>\n",
       "    </tr>\n",
       "    <tr>\n",
       "      <th>8</th>\n",
       "      <td>11605</td>\n",
       "      <td>When the British Film Institute asked Martin S...</td>\n",
       "      <td>1</td>\n",
       "    </tr>\n",
       "    <tr>\n",
       "      <th>9</th>\n",
       "      <td>2811</td>\n",
       "      <td>Okay. Yes, this was a very-tight-budget movie ...</td>\n",
       "      <td>1</td>\n",
       "    </tr>\n",
       "    <tr>\n",
       "      <th>10</th>\n",
       "      <td>35</td>\n",
       "      <td>One of the most nihilistic and brutal films I'...</td>\n",
       "      <td>1</td>\n",
       "    </tr>\n",
       "    <tr>\n",
       "      <th>11</th>\n",
       "      <td>3258</td>\n",
       "      <td>I find myself comparing all stand-up acts to t...</td>\n",
       "      <td>1</td>\n",
       "    </tr>\n",
       "    <tr>\n",
       "      <th>12</th>\n",
       "      <td>4292</td>\n",
       "      <td>no movie with dennis hopper, gary busey, erika...</td>\n",
       "      <td>1</td>\n",
       "    </tr>\n",
       "    <tr>\n",
       "      <th>13</th>\n",
       "      <td>9999</td>\n",
       "      <td>Amazing acting, music. A simple and clear plot...</td>\n",
       "      <td>1</td>\n",
       "    </tr>\n",
       "    <tr>\n",
       "      <th>14</th>\n",
       "      <td>6348</td>\n",
       "      <td>Bruce Almighty is the best Jim Carrey work sin...</td>\n",
       "      <td>1</td>\n",
       "    </tr>\n",
       "    <tr>\n",
       "      <th>15</th>\n",
       "      <td>3611</td>\n",
       "      <td>For those that were interested in knowing how ...</td>\n",
       "      <td>1</td>\n",
       "    </tr>\n",
       "    <tr>\n",
       "      <th>16</th>\n",
       "      <td>7462</td>\n",
       "      <td>What happens when someone has so much social a...</td>\n",
       "      <td>1</td>\n",
       "    </tr>\n",
       "    <tr>\n",
       "      <th>17</th>\n",
       "      <td>10547</td>\n",
       "      <td>I watched this movie once and might watch it a...</td>\n",
       "      <td>1</td>\n",
       "    </tr>\n",
       "    <tr>\n",
       "      <th>18</th>\n",
       "      <td>3038</td>\n",
       "      <td>Slaughter High is about a boy named Marty. He ...</td>\n",
       "      <td>1</td>\n",
       "    </tr>\n",
       "    <tr>\n",
       "      <th>19</th>\n",
       "      <td>1074</td>\n",
       "      <td>Mean-spirited, ugly, nasty retro-action thrill...</td>\n",
       "      <td>1</td>\n",
       "    </tr>\n",
       "    <tr>\n",
       "      <th>20</th>\n",
       "      <td>10764</td>\n",
       "      <td>Went to see this finnish film and I've got to ...</td>\n",
       "      <td>1</td>\n",
       "    </tr>\n",
       "    <tr>\n",
       "      <th>21</th>\n",
       "      <td>1847</td>\n",
       "      <td>THis was a hilarious movie and I would see it ...</td>\n",
       "      <td>1</td>\n",
       "    </tr>\n",
       "    <tr>\n",
       "      <th>22</th>\n",
       "      <td>5149</td>\n",
       "      <td>I really enjoyed The 60's. Not being of that g...</td>\n",
       "      <td>1</td>\n",
       "    </tr>\n",
       "    <tr>\n",
       "      <th>23</th>\n",
       "      <td>7843</td>\n",
       "      <td>This is the French and Belgians doing what the...</td>\n",
       "      <td>1</td>\n",
       "    </tr>\n",
       "    <tr>\n",
       "      <th>24</th>\n",
       "      <td>478</td>\n",
       "      <td>OK where do i begin?... This movie changed my ...</td>\n",
       "      <td>1</td>\n",
       "    </tr>\n",
       "    <tr>\n",
       "      <th>25</th>\n",
       "      <td>11862</td>\n",
       "      <td>Back in the forties, when movies touched on ma...</td>\n",
       "      <td>1</td>\n",
       "    </tr>\n",
       "    <tr>\n",
       "      <th>26</th>\n",
       "      <td>11365</td>\n",
       "      <td>Girlfight is like your grandmother's cooking: ...</td>\n",
       "      <td>1</td>\n",
       "    </tr>\n",
       "    <tr>\n",
       "      <th>27</th>\n",
       "      <td>146</td>\n",
       "      <td>Those who love Elivra as I did in her late nig...</td>\n",
       "      <td>1</td>\n",
       "    </tr>\n",
       "    <tr>\n",
       "      <th>28</th>\n",
       "      <td>10960</td>\n",
       "      <td>If you want to be cynical and pedantic you cou...</td>\n",
       "      <td>1</td>\n",
       "    </tr>\n",
       "    <tr>\n",
       "      <th>29</th>\n",
       "      <td>6249</td>\n",
       "      <td>Well, if you are looking for a great mind cont...</td>\n",
       "      <td>1</td>\n",
       "    </tr>\n",
       "    <tr>\n",
       "      <th>...</th>\n",
       "      <td>...</td>\n",
       "      <td>...</td>\n",
       "      <td>...</td>\n",
       "    </tr>\n",
       "    <tr>\n",
       "      <th>1970</th>\n",
       "      <td>24338</td>\n",
       "      <td>When a man who doesn't have Alzheimer's can't ...</td>\n",
       "      <td>0</td>\n",
       "    </tr>\n",
       "    <tr>\n",
       "      <th>1971</th>\n",
       "      <td>24872</td>\n",
       "      <td>This was longer than the Ten Commandments, All...</td>\n",
       "      <td>0</td>\n",
       "    </tr>\n",
       "    <tr>\n",
       "      <th>1972</th>\n",
       "      <td>24888</td>\n",
       "      <td>*Spoiler warning*&lt;br /&gt;&lt;br /&gt;First of all I ra...</td>\n",
       "      <td>0</td>\n",
       "    </tr>\n",
       "    <tr>\n",
       "      <th>1973</th>\n",
       "      <td>19775</td>\n",
       "      <td>A great concept gone wrong. Poor acting, even ...</td>\n",
       "      <td>0</td>\n",
       "    </tr>\n",
       "    <tr>\n",
       "      <th>1974</th>\n",
       "      <td>23136</td>\n",
       "      <td>This film is really unbelievable. I've seen so...</td>\n",
       "      <td>0</td>\n",
       "    </tr>\n",
       "    <tr>\n",
       "      <th>1975</th>\n",
       "      <td>21538</td>\n",
       "      <td>1st watched 12/6/2009 - 4 out of 10 (Dir-Walte...</td>\n",
       "      <td>0</td>\n",
       "    </tr>\n",
       "    <tr>\n",
       "      <th>1976</th>\n",
       "      <td>21842</td>\n",
       "      <td>This review is based on the dubbed Shock-o-Ram...</td>\n",
       "      <td>0</td>\n",
       "    </tr>\n",
       "    <tr>\n",
       "      <th>1977</th>\n",
       "      <td>19955</td>\n",
       "      <td>The saddest part of this is the fact that thes...</td>\n",
       "      <td>0</td>\n",
       "    </tr>\n",
       "    <tr>\n",
       "      <th>1978</th>\n",
       "      <td>17081</td>\n",
       "      <td>There is absolutely NO reason to waste your ti...</td>\n",
       "      <td>0</td>\n",
       "    </tr>\n",
       "    <tr>\n",
       "      <th>1979</th>\n",
       "      <td>20153</td>\n",
       "      <td>What begins as a fairly clever farce about a s...</td>\n",
       "      <td>0</td>\n",
       "    </tr>\n",
       "    <tr>\n",
       "      <th>1980</th>\n",
       "      <td>23151</td>\n",
       "      <td>When the folks at Kino Video assembled their f...</td>\n",
       "      <td>0</td>\n",
       "    </tr>\n",
       "    <tr>\n",
       "      <th>1981</th>\n",
       "      <td>14488</td>\n",
       "      <td>If you see this turkey listed in your TV guide...</td>\n",
       "      <td>0</td>\n",
       "    </tr>\n",
       "    <tr>\n",
       "      <th>1982</th>\n",
       "      <td>23821</td>\n",
       "      <td>... Bad at being intentionally bad...&lt;br /&gt;&lt;br...</td>\n",
       "      <td>0</td>\n",
       "    </tr>\n",
       "    <tr>\n",
       "      <th>1983</th>\n",
       "      <td>13142</td>\n",
       "      <td>Here we go with other slasher movie, Good look...</td>\n",
       "      <td>0</td>\n",
       "    </tr>\n",
       "    <tr>\n",
       "      <th>1984</th>\n",
       "      <td>20205</td>\n",
       "      <td>This movie masquerades as a social commentary,...</td>\n",
       "      <td>0</td>\n",
       "    </tr>\n",
       "    <tr>\n",
       "      <th>1985</th>\n",
       "      <td>23191</td>\n",
       "      <td>It must have been excruciating to attend the d...</td>\n",
       "      <td>0</td>\n",
       "    </tr>\n",
       "    <tr>\n",
       "      <th>1986</th>\n",
       "      <td>20064</td>\n",
       "      <td>Woody Allen made \"September\", proving that eve...</td>\n",
       "      <td>0</td>\n",
       "    </tr>\n",
       "    <tr>\n",
       "      <th>1987</th>\n",
       "      <td>18674</td>\n",
       "      <td>&lt;br /&gt;&lt;br /&gt;I watched this movie just a little...</td>\n",
       "      <td>0</td>\n",
       "    </tr>\n",
       "    <tr>\n",
       "      <th>1988</th>\n",
       "      <td>20136</td>\n",
       "      <td>\"Unhinged\" is one strange little film, a forgo...</td>\n",
       "      <td>0</td>\n",
       "    </tr>\n",
       "    <tr>\n",
       "      <th>1989</th>\n",
       "      <td>23485</td>\n",
       "      <td>I thought that this movies was a letdown I exp...</td>\n",
       "      <td>0</td>\n",
       "    </tr>\n",
       "    <tr>\n",
       "      <th>1990</th>\n",
       "      <td>13624</td>\n",
       "      <td>What's that there in the skies? Is it a plane?...</td>\n",
       "      <td>0</td>\n",
       "    </tr>\n",
       "    <tr>\n",
       "      <th>1991</th>\n",
       "      <td>23842</td>\n",
       "      <td>Even Steve Martin and Dan Aykroyd couldn't sav...</td>\n",
       "      <td>0</td>\n",
       "    </tr>\n",
       "    <tr>\n",
       "      <th>1992</th>\n",
       "      <td>16315</td>\n",
       "      <td>Whatever happened to British TV drama? From Jo...</td>\n",
       "      <td>0</td>\n",
       "    </tr>\n",
       "    <tr>\n",
       "      <th>1993</th>\n",
       "      <td>18827</td>\n",
       "      <td>Sure it takes place in the west, but the title...</td>\n",
       "      <td>0</td>\n",
       "    </tr>\n",
       "    <tr>\n",
       "      <th>1994</th>\n",
       "      <td>16328</td>\n",
       "      <td>A few years back the same persons who created ...</td>\n",
       "      <td>0</td>\n",
       "    </tr>\n",
       "    <tr>\n",
       "      <th>1995</th>\n",
       "      <td>19205</td>\n",
       "      <td>Is rich, ailing Elizabeth Taylor courting the ...</td>\n",
       "      <td>0</td>\n",
       "    </tr>\n",
       "    <tr>\n",
       "      <th>1996</th>\n",
       "      <td>24805</td>\n",
       "      <td>The movie itself is not too bad; many comments...</td>\n",
       "      <td>0</td>\n",
       "    </tr>\n",
       "    <tr>\n",
       "      <th>1997</th>\n",
       "      <td>15870</td>\n",
       "      <td>I feel much less generous with this film than ...</td>\n",
       "      <td>0</td>\n",
       "    </tr>\n",
       "    <tr>\n",
       "      <th>1998</th>\n",
       "      <td>24185</td>\n",
       "      <td>It SURPRISINGLY had a plot! ;) I've seen movie...</td>\n",
       "      <td>0</td>\n",
       "    </tr>\n",
       "    <tr>\n",
       "      <th>1999</th>\n",
       "      <td>20062</td>\n",
       "      <td>This movie could have been 15 minutes long if ...</td>\n",
       "      <td>0</td>\n",
       "    </tr>\n",
       "  </tbody>\n",
       "</table>\n",
       "<p>2000 rows × 3 columns</p>\n",
       "</div>"
      ],
      "text/plain": [
       "      index                                               text  sentiment\n",
       "0      4300  I have watched this episode more often than an...          1\n",
       "1      9536  As many reviewers here have noted, the film ve...          1\n",
       "2       813  At first,this movie seems so bad that i almost...          1\n",
       "3     11248  Was this based on a comic-book? A video-game? ...          1\n",
       "4      1436  Melissa Joan Hart shines! This show is amazing...          1\n",
       "5      4804  So this made for TV film scores only a 7.6 on ...          1\n",
       "6      4779  me and my sister use to rent this every time w...          1\n",
       "7      4642  \"THINGS TO COME\" Movie Review by kWRice<br /><...          1\n",
       "8     11605  When the British Film Institute asked Martin S...          1\n",
       "9      2811  Okay. Yes, this was a very-tight-budget movie ...          1\n",
       "10       35  One of the most nihilistic and brutal films I'...          1\n",
       "11     3258  I find myself comparing all stand-up acts to t...          1\n",
       "12     4292  no movie with dennis hopper, gary busey, erika...          1\n",
       "13     9999  Amazing acting, music. A simple and clear plot...          1\n",
       "14     6348  Bruce Almighty is the best Jim Carrey work sin...          1\n",
       "15     3611  For those that were interested in knowing how ...          1\n",
       "16     7462  What happens when someone has so much social a...          1\n",
       "17    10547  I watched this movie once and might watch it a...          1\n",
       "18     3038  Slaughter High is about a boy named Marty. He ...          1\n",
       "19     1074  Mean-spirited, ugly, nasty retro-action thrill...          1\n",
       "20    10764  Went to see this finnish film and I've got to ...          1\n",
       "21     1847  THis was a hilarious movie and I would see it ...          1\n",
       "22     5149  I really enjoyed The 60's. Not being of that g...          1\n",
       "23     7843  This is the French and Belgians doing what the...          1\n",
       "24      478  OK where do i begin?... This movie changed my ...          1\n",
       "25    11862  Back in the forties, when movies touched on ma...          1\n",
       "26    11365  Girlfight is like your grandmother's cooking: ...          1\n",
       "27      146  Those who love Elivra as I did in her late nig...          1\n",
       "28    10960  If you want to be cynical and pedantic you cou...          1\n",
       "29     6249  Well, if you are looking for a great mind cont...          1\n",
       "...     ...                                                ...        ...\n",
       "1970  24338  When a man who doesn't have Alzheimer's can't ...          0\n",
       "1971  24872  This was longer than the Ten Commandments, All...          0\n",
       "1972  24888  *Spoiler warning*<br /><br />First of all I ra...          0\n",
       "1973  19775  A great concept gone wrong. Poor acting, even ...          0\n",
       "1974  23136  This film is really unbelievable. I've seen so...          0\n",
       "1975  21538  1st watched 12/6/2009 - 4 out of 10 (Dir-Walte...          0\n",
       "1976  21842  This review is based on the dubbed Shock-o-Ram...          0\n",
       "1977  19955  The saddest part of this is the fact that thes...          0\n",
       "1978  17081  There is absolutely NO reason to waste your ti...          0\n",
       "1979  20153  What begins as a fairly clever farce about a s...          0\n",
       "1980  23151  When the folks at Kino Video assembled their f...          0\n",
       "1981  14488  If you see this turkey listed in your TV guide...          0\n",
       "1982  23821  ... Bad at being intentionally bad...<br /><br...          0\n",
       "1983  13142  Here we go with other slasher movie, Good look...          0\n",
       "1984  20205  This movie masquerades as a social commentary,...          0\n",
       "1985  23191  It must have been excruciating to attend the d...          0\n",
       "1986  20064  Woody Allen made \"September\", proving that eve...          0\n",
       "1987  18674  <br /><br />I watched this movie just a little...          0\n",
       "1988  20136  \"Unhinged\" is one strange little film, a forgo...          0\n",
       "1989  23485  I thought that this movies was a letdown I exp...          0\n",
       "1990  13624  What's that there in the skies? Is it a plane?...          0\n",
       "1991  23842  Even Steve Martin and Dan Aykroyd couldn't sav...          0\n",
       "1992  16315  Whatever happened to British TV drama? From Jo...          0\n",
       "1993  18827  Sure it takes place in the west, but the title...          0\n",
       "1994  16328  A few years back the same persons who created ...          0\n",
       "1995  19205  Is rich, ailing Elizabeth Taylor courting the ...          0\n",
       "1996  24805  The movie itself is not too bad; many comments...          0\n",
       "1997  15870  I feel much less generous with this film than ...          0\n",
       "1998  24185  It SURPRISINGLY had a plot! ;) I've seen movie...          0\n",
       "1999  20062  This movie could have been 15 minutes long if ...          0\n",
       "\n",
       "[2000 rows x 3 columns]"
      ]
     },
     "execution_count": 67,
     "metadata": {
      "tags": []
     },
     "output_type": "execute_result"
    }
   ],
   "source": [
    "train2=train[train.sentiment>0].sample(n=1000,random_state=1)\n",
    "train3=train[train.sentiment<=0].sample(n=1000,random_state=1)\n",
    "frames=[train2,train3]\n",
    "train=pd.concat(frames)\n",
    "train.reset_index()"
   ]
  },
  {
   "cell_type": "code",
   "execution_count": 63,
   "metadata": {
    "colab": {
     "base_uri": "https://localhost:8080/",
     "height": 204
    },
    "colab_type": "code",
    "id": "VWtvPqj5sR0X",
    "outputId": "09cffa1a-2bdc-4fd3-f5c8-da3aa91f72fe"
   },
   "outputs": [
    {
     "data": {
      "text/html": [
       "<div>\n",
       "<style scoped>\n",
       "    .dataframe tbody tr th:only-of-type {\n",
       "        vertical-align: middle;\n",
       "    }\n",
       "\n",
       "    .dataframe tbody tr th {\n",
       "        vertical-align: top;\n",
       "    }\n",
       "\n",
       "    .dataframe thead th {\n",
       "        text-align: right;\n",
       "    }\n",
       "</style>\n",
       "<table border=\"1\" class=\"dataframe\">\n",
       "  <thead>\n",
       "    <tr style=\"text-align: right;\">\n",
       "      <th></th>\n",
       "      <th>text</th>\n",
       "      <th>sentiment</th>\n",
       "    </tr>\n",
       "  </thead>\n",
       "  <tbody>\n",
       "    <tr>\n",
       "      <th>4300</th>\n",
       "      <td>I have watched this episode more often than an...</td>\n",
       "      <td>1</td>\n",
       "    </tr>\n",
       "    <tr>\n",
       "      <th>9536</th>\n",
       "      <td>As many reviewers here have noted, the film ve...</td>\n",
       "      <td>1</td>\n",
       "    </tr>\n",
       "    <tr>\n",
       "      <th>813</th>\n",
       "      <td>At first,this movie seems so bad that i almost...</td>\n",
       "      <td>1</td>\n",
       "    </tr>\n",
       "    <tr>\n",
       "      <th>11248</th>\n",
       "      <td>Was this based on a comic-book? A video-game? ...</td>\n",
       "      <td>1</td>\n",
       "    </tr>\n",
       "    <tr>\n",
       "      <th>1436</th>\n",
       "      <td>Melissa Joan Hart shines! This show is amazing...</td>\n",
       "      <td>1</td>\n",
       "    </tr>\n",
       "  </tbody>\n",
       "</table>\n",
       "</div>"
      ],
      "text/plain": [
       "                                                    text  sentiment\n",
       "4300   I have watched this episode more often than an...          1\n",
       "9536   As many reviewers here have noted, the film ve...          1\n",
       "813    At first,this movie seems so bad that i almost...          1\n",
       "11248  Was this based on a comic-book? A video-game? ...          1\n",
       "1436   Melissa Joan Hart shines! This show is amazing...          1"
      ]
     },
     "execution_count": 63,
     "metadata": {
      "tags": []
     },
     "output_type": "execute_result"
    }
   ],
   "source": [
    "train.head()"
   ]
  },
  {
   "cell_type": "markdown",
   "metadata": {
    "colab_type": "text",
    "id": "VLBE4y9VuoJW"
   },
   "source": [
    "You should see the output like this:\n",
    "\n",
    "![](https://github.com/wshuyi/github_pub_img/raw/master/assets/2019-03-25-21-22-32-893523.png)"
   ]
  },
  {
   "cell_type": "code",
   "execution_count": 64,
   "metadata": {
    "colab": {
     "base_uri": "https://localhost:8080/",
     "height": 204
    },
    "colab_type": "code",
    "id": "WQrxhyIzsR0e",
    "outputId": "a60bd21d-6dca-47e9-8921-a357d47808e6"
   },
   "outputs": [
    {
     "data": {
      "text/html": [
       "<div>\n",
       "<style scoped>\n",
       "    .dataframe tbody tr th:only-of-type {\n",
       "        vertical-align: middle;\n",
       "    }\n",
       "\n",
       "    .dataframe tbody tr th {\n",
       "        vertical-align: top;\n",
       "    }\n",
       "\n",
       "    .dataframe thead th {\n",
       "        text-align: right;\n",
       "    }\n",
       "</style>\n",
       "<table border=\"1\" class=\"dataframe\">\n",
       "  <thead>\n",
       "    <tr style=\"text-align: right;\">\n",
       "      <th></th>\n",
       "      <th>text</th>\n",
       "      <th>sentiment</th>\n",
       "    </tr>\n",
       "  </thead>\n",
       "  <tbody>\n",
       "    <tr>\n",
       "      <th>19205</th>\n",
       "      <td>Is rich, ailing Elizabeth Taylor courting the ...</td>\n",
       "      <td>0</td>\n",
       "    </tr>\n",
       "    <tr>\n",
       "      <th>24805</th>\n",
       "      <td>The movie itself is not too bad; many comments...</td>\n",
       "      <td>0</td>\n",
       "    </tr>\n",
       "    <tr>\n",
       "      <th>15870</th>\n",
       "      <td>I feel much less generous with this film than ...</td>\n",
       "      <td>0</td>\n",
       "    </tr>\n",
       "    <tr>\n",
       "      <th>24185</th>\n",
       "      <td>It SURPRISINGLY had a plot! ;) I've seen movie...</td>\n",
       "      <td>0</td>\n",
       "    </tr>\n",
       "    <tr>\n",
       "      <th>20062</th>\n",
       "      <td>This movie could have been 15 minutes long if ...</td>\n",
       "      <td>0</td>\n",
       "    </tr>\n",
       "  </tbody>\n",
       "</table>\n",
       "</div>"
      ],
      "text/plain": [
       "                                                    text  sentiment\n",
       "19205  Is rich, ailing Elizabeth Taylor courting the ...          0\n",
       "24805  The movie itself is not too bad; many comments...          0\n",
       "15870  I feel much less generous with this film than ...          0\n",
       "24185  It SURPRISINGLY had a plot! ;) I've seen movie...          0\n",
       "20062  This movie could have been 15 minutes long if ...          0"
      ]
     },
     "execution_count": 64,
     "metadata": {
      "tags": []
     },
     "output_type": "execute_result"
    }
   ],
   "source": [
    "train.tail()"
   ]
  },
  {
   "cell_type": "markdown",
   "metadata": {
    "colab_type": "text",
    "id": "oaIig18au7xw"
   },
   "source": [
    "You should see the output like this:\n",
    "\n",
    "![](https://github.com/wshuyi/github_pub_img/raw/master/assets/2019-03-25-21-22-52-059518.png)"
   ]
  },
  {
   "cell_type": "markdown",
   "metadata": {
    "colab_type": "text",
    "id": "4jAiC2TSvXXT"
   },
   "source": [
    "**Question 3: (10 points)**\n",
    "\n",
    "Sample **1000** rows from original test set. 500 positive, 500 negative. To keep all your result identical, please use **`random_state=1`** while sampling. Reset the index of generated data frame, and save it to **`test`**. (Hint: you can refer to[ this document](https://pandas.pydata.org/pandas-docs/stable/reference/api/pandas.DataFrame.sample.html).)\n",
    "\n",
    "\n",
    "\n",
    "\n",
    "\n",
    "\n"
   ]
  },
  {
   "cell_type": "code",
   "execution_count": 68,
   "metadata": {
    "colab": {
     "base_uri": "https://localhost:8080/",
     "height": 1969
    },
    "colab_type": "code",
    "id": "oP6mMOnvzS6L",
    "outputId": "0d059894-cba7-4c32-8d87-340eca26bf86"
   },
   "outputs": [
    {
     "data": {
      "text/html": [
       "<div>\n",
       "<style scoped>\n",
       "    .dataframe tbody tr th:only-of-type {\n",
       "        vertical-align: middle;\n",
       "    }\n",
       "\n",
       "    .dataframe tbody tr th {\n",
       "        vertical-align: top;\n",
       "    }\n",
       "\n",
       "    .dataframe thead th {\n",
       "        text-align: right;\n",
       "    }\n",
       "</style>\n",
       "<table border=\"1\" class=\"dataframe\">\n",
       "  <thead>\n",
       "    <tr style=\"text-align: right;\">\n",
       "      <th></th>\n",
       "      <th>index</th>\n",
       "      <th>text</th>\n",
       "      <th>sentiment</th>\n",
       "    </tr>\n",
       "  </thead>\n",
       "  <tbody>\n",
       "    <tr>\n",
       "      <th>0</th>\n",
       "      <td>4300</td>\n",
       "      <td>Bug Juice changed my life. I Know it sounds st...</td>\n",
       "      <td>1</td>\n",
       "    </tr>\n",
       "    <tr>\n",
       "      <th>1</th>\n",
       "      <td>9536</td>\n",
       "      <td>As many of today's movies are guilty of, the p...</td>\n",
       "      <td>1</td>\n",
       "    </tr>\n",
       "    <tr>\n",
       "      <th>2</th>\n",
       "      <td>813</td>\n",
       "      <td>This is one of the best movies I have ever see...</td>\n",
       "      <td>1</td>\n",
       "    </tr>\n",
       "    <tr>\n",
       "      <th>3</th>\n",
       "      <td>11248</td>\n",
       "      <td>This movie took me by surprise. The opening cr...</td>\n",
       "      <td>1</td>\n",
       "    </tr>\n",
       "    <tr>\n",
       "      <th>4</th>\n",
       "      <td>1436</td>\n",
       "      <td>I am salivating for the sequels. I needed some...</td>\n",
       "      <td>1</td>\n",
       "    </tr>\n",
       "    <tr>\n",
       "      <th>5</th>\n",
       "      <td>4804</td>\n",
       "      <td>Garlin is unquestionably a comedian's comedian...</td>\n",
       "      <td>1</td>\n",
       "    </tr>\n",
       "    <tr>\n",
       "      <th>6</th>\n",
       "      <td>4779</td>\n",
       "      <td>The greatest effort plus the finest cast ever ...</td>\n",
       "      <td>1</td>\n",
       "    </tr>\n",
       "    <tr>\n",
       "      <th>7</th>\n",
       "      <td>4642</td>\n",
       "      <td>This really is a movie that you need to see tw...</td>\n",
       "      <td>1</td>\n",
       "    </tr>\n",
       "    <tr>\n",
       "      <th>8</th>\n",
       "      <td>11605</td>\n",
       "      <td>I really liked this one. (SPOILERS??) It had a...</td>\n",
       "      <td>1</td>\n",
       "    </tr>\n",
       "    <tr>\n",
       "      <th>9</th>\n",
       "      <td>2811</td>\n",
       "      <td>This is a VERY good movie. I give it a 10.&lt;br ...</td>\n",
       "      <td>1</td>\n",
       "    </tr>\n",
       "    <tr>\n",
       "      <th>10</th>\n",
       "      <td>35</td>\n",
       "      <td>This is a well done action movie. There are pl...</td>\n",
       "      <td>1</td>\n",
       "    </tr>\n",
       "    <tr>\n",
       "      <th>11</th>\n",
       "      <td>3258</td>\n",
       "      <td>There are too many people on this board who ha...</td>\n",
       "      <td>1</td>\n",
       "    </tr>\n",
       "    <tr>\n",
       "      <th>12</th>\n",
       "      <td>4292</td>\n",
       "      <td>This sequel proves that Tim Burton was for all...</td>\n",
       "      <td>1</td>\n",
       "    </tr>\n",
       "    <tr>\n",
       "      <th>13</th>\n",
       "      <td>9999</td>\n",
       "      <td>Right, here we go, you have probably read in p...</td>\n",
       "      <td>1</td>\n",
       "    </tr>\n",
       "    <tr>\n",
       "      <th>14</th>\n",
       "      <td>6348</td>\n",
       "      <td>In many ways, the filmic career of independent...</td>\n",
       "      <td>1</td>\n",
       "    </tr>\n",
       "    <tr>\n",
       "      <th>15</th>\n",
       "      <td>3611</td>\n",
       "      <td>I watch this movie every time it plays on TV. ...</td>\n",
       "      <td>1</td>\n",
       "    </tr>\n",
       "    <tr>\n",
       "      <th>16</th>\n",
       "      <td>7462</td>\n",
       "      <td>Highlighting the acting of Sidney Poitier and ...</td>\n",
       "      <td>1</td>\n",
       "    </tr>\n",
       "    <tr>\n",
       "      <th>17</th>\n",
       "      <td>10547</td>\n",
       "      <td>Uzak (2002), a Turkish film shown in the U.S. ...</td>\n",
       "      <td>1</td>\n",
       "    </tr>\n",
       "    <tr>\n",
       "      <th>18</th>\n",
       "      <td>3038</td>\n",
       "      <td>I watch a lot of Vampire movies. I KNOW vampir...</td>\n",
       "      <td>1</td>\n",
       "    </tr>\n",
       "    <tr>\n",
       "      <th>19</th>\n",
       "      <td>1074</td>\n",
       "      <td>I saw this on TCM recently and, through the IM...</td>\n",
       "      <td>1</td>\n",
       "    </tr>\n",
       "    <tr>\n",
       "      <th>20</th>\n",
       "      <td>10764</td>\n",
       "      <td>The film is excellent. One of the most notewor...</td>\n",
       "      <td>1</td>\n",
       "    </tr>\n",
       "    <tr>\n",
       "      <th>21</th>\n",
       "      <td>1847</td>\n",
       "      <td>The first feature length Muppet Movie, and exc...</td>\n",
       "      <td>1</td>\n",
       "    </tr>\n",
       "    <tr>\n",
       "      <th>22</th>\n",
       "      <td>5149</td>\n",
       "      <td>This is one of the Stooges best shorts. It was...</td>\n",
       "      <td>1</td>\n",
       "    </tr>\n",
       "    <tr>\n",
       "      <th>23</th>\n",
       "      <td>7843</td>\n",
       "      <td>i am an avid ff7 fan, for instance i have the ...</td>\n",
       "      <td>1</td>\n",
       "    </tr>\n",
       "    <tr>\n",
       "      <th>24</th>\n",
       "      <td>478</td>\n",
       "      <td>My teacher did this movie. It's a new beginnin...</td>\n",
       "      <td>1</td>\n",
       "    </tr>\n",
       "    <tr>\n",
       "      <th>25</th>\n",
       "      <td>11862</td>\n",
       "      <td>Bwana Devil is reputedly the first major studi...</td>\n",
       "      <td>1</td>\n",
       "    </tr>\n",
       "    <tr>\n",
       "      <th>26</th>\n",
       "      <td>11365</td>\n",
       "      <td>I first viewed \"They Died With There Boots On\"...</td>\n",
       "      <td>1</td>\n",
       "    </tr>\n",
       "    <tr>\n",
       "      <th>27</th>\n",
       "      <td>146</td>\n",
       "      <td>i can't believe people are giving bad reviews ...</td>\n",
       "      <td>1</td>\n",
       "    </tr>\n",
       "    <tr>\n",
       "      <th>28</th>\n",
       "      <td>10960</td>\n",
       "      <td>Superb silent version of the story of Francois...</td>\n",
       "      <td>1</td>\n",
       "    </tr>\n",
       "    <tr>\n",
       "      <th>29</th>\n",
       "      <td>6249</td>\n",
       "      <td>This film is undoubtedly one of the greatest l...</td>\n",
       "      <td>1</td>\n",
       "    </tr>\n",
       "    <tr>\n",
       "      <th>...</th>\n",
       "      <td>...</td>\n",
       "      <td>...</td>\n",
       "      <td>...</td>\n",
       "    </tr>\n",
       "    <tr>\n",
       "      <th>970</th>\n",
       "      <td>18265</td>\n",
       "      <td>Roger Corman has enjoyed his shares of cinemat...</td>\n",
       "      <td>0</td>\n",
       "    </tr>\n",
       "    <tr>\n",
       "      <th>971</th>\n",
       "      <td>24417</td>\n",
       "      <td>This movie should have been billed as three mo...</td>\n",
       "      <td>0</td>\n",
       "    </tr>\n",
       "    <tr>\n",
       "      <th>972</th>\n",
       "      <td>14942</td>\n",
       "      <td>Stay away from this movie. Far away. Phil Fond...</td>\n",
       "      <td>0</td>\n",
       "    </tr>\n",
       "    <tr>\n",
       "      <th>973</th>\n",
       "      <td>24762</td>\n",
       "      <td>Wasted is just that, a waste of time. MTV is c...</td>\n",
       "      <td>0</td>\n",
       "    </tr>\n",
       "    <tr>\n",
       "      <th>974</th>\n",
       "      <td>22807</td>\n",
       "      <td>One of the commentators on the subject of Lil'...</td>\n",
       "      <td>0</td>\n",
       "    </tr>\n",
       "    <tr>\n",
       "      <th>975</th>\n",
       "      <td>21920</td>\n",
       "      <td>I wish I could have given this a Zero. Sure I'...</td>\n",
       "      <td>0</td>\n",
       "    </tr>\n",
       "    <tr>\n",
       "      <th>976</th>\n",
       "      <td>22831</td>\n",
       "      <td>This movie is not worth a descend review, it j...</td>\n",
       "      <td>0</td>\n",
       "    </tr>\n",
       "    <tr>\n",
       "      <th>977</th>\n",
       "      <td>19209</td>\n",
       "      <td>From watching the trailer, the movie looked pr...</td>\n",
       "      <td>0</td>\n",
       "    </tr>\n",
       "    <tr>\n",
       "      <th>978</th>\n",
       "      <td>16070</td>\n",
       "      <td>I caught a screening of this at the True/False...</td>\n",
       "      <td>0</td>\n",
       "    </tr>\n",
       "    <tr>\n",
       "      <th>979</th>\n",
       "      <td>18405</td>\n",
       "      <td>L'Auberge Espagnole is less funny and less int...</td>\n",
       "      <td>0</td>\n",
       "    </tr>\n",
       "    <tr>\n",
       "      <th>980</th>\n",
       "      <td>15527</td>\n",
       "      <td>pretty disappointing. i was expecting more of ...</td>\n",
       "      <td>0</td>\n",
       "    </tr>\n",
       "    <tr>\n",
       "      <th>981</th>\n",
       "      <td>16125</td>\n",
       "      <td>I have done some research on Ed Gien, and I ha...</td>\n",
       "      <td>0</td>\n",
       "    </tr>\n",
       "    <tr>\n",
       "      <th>982</th>\n",
       "      <td>24834</td>\n",
       "      <td>I really liked this movie. Number 5, the star ...</td>\n",
       "      <td>0</td>\n",
       "    </tr>\n",
       "    <tr>\n",
       "      <th>983</th>\n",
       "      <td>17753</td>\n",
       "      <td>I had enjoyed the Masters of Horror Series unt...</td>\n",
       "      <td>0</td>\n",
       "    </tr>\n",
       "    <tr>\n",
       "      <th>984</th>\n",
       "      <td>13932</td>\n",
       "      <td>'Book II' isn't a film, it's a sermon. This na...</td>\n",
       "      <td>0</td>\n",
       "    </tr>\n",
       "    <tr>\n",
       "      <th>985</th>\n",
       "      <td>14368</td>\n",
       "      <td>Wow. I thought, Eskimo Limon was the most awfu...</td>\n",
       "      <td>0</td>\n",
       "    </tr>\n",
       "    <tr>\n",
       "      <th>986</th>\n",
       "      <td>19657</td>\n",
       "      <td>If you're an average guy like me and enjoy goo...</td>\n",
       "      <td>0</td>\n",
       "    </tr>\n",
       "    <tr>\n",
       "      <th>987</th>\n",
       "      <td>16149</td>\n",
       "      <td>I couldn't help but look at the time every 5 t...</td>\n",
       "      <td>0</td>\n",
       "    </tr>\n",
       "    <tr>\n",
       "      <th>988</th>\n",
       "      <td>24957</td>\n",
       "      <td>This is a rip-off of already crappy hollywood ...</td>\n",
       "      <td>0</td>\n",
       "    </tr>\n",
       "    <tr>\n",
       "      <th>989</th>\n",
       "      <td>19805</td>\n",
       "      <td>Only in the Hollywood audiovisual fiction worl...</td>\n",
       "      <td>0</td>\n",
       "    </tr>\n",
       "    <tr>\n",
       "      <th>990</th>\n",
       "      <td>17145</td>\n",
       "      <td>When Pam Grier made COFFY in 1973, it was an e...</td>\n",
       "      <td>0</td>\n",
       "    </tr>\n",
       "    <tr>\n",
       "      <th>991</th>\n",
       "      <td>19117</td>\n",
       "      <td>&lt;br /&gt;&lt;br /&gt;I understand that people have diff...</td>\n",
       "      <td>0</td>\n",
       "    </tr>\n",
       "    <tr>\n",
       "      <th>992</th>\n",
       "      <td>22241</td>\n",
       "      <td>I am a German student so sorry for eventually ...</td>\n",
       "      <td>0</td>\n",
       "    </tr>\n",
       "    <tr>\n",
       "      <th>993</th>\n",
       "      <td>17969</td>\n",
       "      <td>What can I say after I say the one line summar...</td>\n",
       "      <td>0</td>\n",
       "    </tr>\n",
       "    <tr>\n",
       "      <th>994</th>\n",
       "      <td>16443</td>\n",
       "      <td>Nightkill stars Robert Mitchum as a world-wear...</td>\n",
       "      <td>0</td>\n",
       "    </tr>\n",
       "    <tr>\n",
       "      <th>995</th>\n",
       "      <td>15979</td>\n",
       "      <td>This is my opinion of this movie, expressed in...</td>\n",
       "      <td>0</td>\n",
       "    </tr>\n",
       "    <tr>\n",
       "      <th>996</th>\n",
       "      <td>22182</td>\n",
       "      <td>Why can't a movie be rated a zero? Or even a n...</td>\n",
       "      <td>0</td>\n",
       "    </tr>\n",
       "    <tr>\n",
       "      <th>997</th>\n",
       "      <td>20116</td>\n",
       "      <td>The Gun is probably the worst film I've ever s...</td>\n",
       "      <td>0</td>\n",
       "    </tr>\n",
       "    <tr>\n",
       "      <th>998</th>\n",
       "      <td>24234</td>\n",
       "      <td>If you are thinking of going to see this film ...</td>\n",
       "      <td>0</td>\n",
       "    </tr>\n",
       "    <tr>\n",
       "      <th>999</th>\n",
       "      <td>21863</td>\n",
       "      <td>This movie was like a gathering of people that...</td>\n",
       "      <td>0</td>\n",
       "    </tr>\n",
       "  </tbody>\n",
       "</table>\n",
       "<p>1000 rows × 3 columns</p>\n",
       "</div>"
      ],
      "text/plain": [
       "     index                                               text  sentiment\n",
       "0     4300  Bug Juice changed my life. I Know it sounds st...          1\n",
       "1     9536  As many of today's movies are guilty of, the p...          1\n",
       "2      813  This is one of the best movies I have ever see...          1\n",
       "3    11248  This movie took me by surprise. The opening cr...          1\n",
       "4     1436  I am salivating for the sequels. I needed some...          1\n",
       "5     4804  Garlin is unquestionably a comedian's comedian...          1\n",
       "6     4779  The greatest effort plus the finest cast ever ...          1\n",
       "7     4642  This really is a movie that you need to see tw...          1\n",
       "8    11605  I really liked this one. (SPOILERS??) It had a...          1\n",
       "9     2811  This is a VERY good movie. I give it a 10.<br ...          1\n",
       "10      35  This is a well done action movie. There are pl...          1\n",
       "11    3258  There are too many people on this board who ha...          1\n",
       "12    4292  This sequel proves that Tim Burton was for all...          1\n",
       "13    9999  Right, here we go, you have probably read in p...          1\n",
       "14    6348  In many ways, the filmic career of independent...          1\n",
       "15    3611  I watch this movie every time it plays on TV. ...          1\n",
       "16    7462  Highlighting the acting of Sidney Poitier and ...          1\n",
       "17   10547  Uzak (2002), a Turkish film shown in the U.S. ...          1\n",
       "18    3038  I watch a lot of Vampire movies. I KNOW vampir...          1\n",
       "19    1074  I saw this on TCM recently and, through the IM...          1\n",
       "20   10764  The film is excellent. One of the most notewor...          1\n",
       "21    1847  The first feature length Muppet Movie, and exc...          1\n",
       "22    5149  This is one of the Stooges best shorts. It was...          1\n",
       "23    7843  i am an avid ff7 fan, for instance i have the ...          1\n",
       "24     478  My teacher did this movie. It's a new beginnin...          1\n",
       "25   11862  Bwana Devil is reputedly the first major studi...          1\n",
       "26   11365  I first viewed \"They Died With There Boots On\"...          1\n",
       "27     146  i can't believe people are giving bad reviews ...          1\n",
       "28   10960  Superb silent version of the story of Francois...          1\n",
       "29    6249  This film is undoubtedly one of the greatest l...          1\n",
       "..     ...                                                ...        ...\n",
       "970  18265  Roger Corman has enjoyed his shares of cinemat...          0\n",
       "971  24417  This movie should have been billed as three mo...          0\n",
       "972  14942  Stay away from this movie. Far away. Phil Fond...          0\n",
       "973  24762  Wasted is just that, a waste of time. MTV is c...          0\n",
       "974  22807  One of the commentators on the subject of Lil'...          0\n",
       "975  21920  I wish I could have given this a Zero. Sure I'...          0\n",
       "976  22831  This movie is not worth a descend review, it j...          0\n",
       "977  19209  From watching the trailer, the movie looked pr...          0\n",
       "978  16070  I caught a screening of this at the True/False...          0\n",
       "979  18405  L'Auberge Espagnole is less funny and less int...          0\n",
       "980  15527  pretty disappointing. i was expecting more of ...          0\n",
       "981  16125  I have done some research on Ed Gien, and I ha...          0\n",
       "982  24834  I really liked this movie. Number 5, the star ...          0\n",
       "983  17753  I had enjoyed the Masters of Horror Series unt...          0\n",
       "984  13932  'Book II' isn't a film, it's a sermon. This na...          0\n",
       "985  14368  Wow. I thought, Eskimo Limon was the most awfu...          0\n",
       "986  19657  If you're an average guy like me and enjoy goo...          0\n",
       "987  16149  I couldn't help but look at the time every 5 t...          0\n",
       "988  24957  This is a rip-off of already crappy hollywood ...          0\n",
       "989  19805  Only in the Hollywood audiovisual fiction worl...          0\n",
       "990  17145  When Pam Grier made COFFY in 1973, it was an e...          0\n",
       "991  19117  <br /><br />I understand that people have diff...          0\n",
       "992  22241  I am a German student so sorry for eventually ...          0\n",
       "993  17969  What can I say after I say the one line summar...          0\n",
       "994  16443  Nightkill stars Robert Mitchum as a world-wear...          0\n",
       "995  15979  This is my opinion of this movie, expressed in...          0\n",
       "996  22182  Why can't a movie be rated a zero? Or even a n...          0\n",
       "997  20116  The Gun is probably the worst film I've ever s...          0\n",
       "998  24234  If you are thinking of going to see this film ...          0\n",
       "999  21863  This movie was like a gathering of people that...          0\n",
       "\n",
       "[1000 rows x 3 columns]"
      ]
     },
     "execution_count": 68,
     "metadata": {
      "tags": []
     },
     "output_type": "execute_result"
    }
   ],
   "source": [
    "test2=test[test.sentiment>0].sample(n=500,random_state=1)\n",
    "test3=test[test.sentiment<=0].sample(n=500,random_state=1)\n",
    "frames=[test2,test3]\n",
    "test=pd.concat(frames)\n",
    "test.reset_index()"
   ]
  },
  {
   "cell_type": "code",
   "execution_count": 69,
   "metadata": {
    "colab": {
     "base_uri": "https://localhost:8080/",
     "height": 204
    },
    "colab_type": "code",
    "id": "yVulvkv7sR0i",
    "outputId": "9dcf63ca-93d1-4a83-d77c-fe57a8cb6b66"
   },
   "outputs": [
    {
     "data": {
      "text/html": [
       "<div>\n",
       "<style scoped>\n",
       "    .dataframe tbody tr th:only-of-type {\n",
       "        vertical-align: middle;\n",
       "    }\n",
       "\n",
       "    .dataframe tbody tr th {\n",
       "        vertical-align: top;\n",
       "    }\n",
       "\n",
       "    .dataframe thead th {\n",
       "        text-align: right;\n",
       "    }\n",
       "</style>\n",
       "<table border=\"1\" class=\"dataframe\">\n",
       "  <thead>\n",
       "    <tr style=\"text-align: right;\">\n",
       "      <th></th>\n",
       "      <th>text</th>\n",
       "      <th>sentiment</th>\n",
       "    </tr>\n",
       "  </thead>\n",
       "  <tbody>\n",
       "    <tr>\n",
       "      <th>4300</th>\n",
       "      <td>Bug Juice changed my life. I Know it sounds st...</td>\n",
       "      <td>1</td>\n",
       "    </tr>\n",
       "    <tr>\n",
       "      <th>9536</th>\n",
       "      <td>As many of today's movies are guilty of, the p...</td>\n",
       "      <td>1</td>\n",
       "    </tr>\n",
       "    <tr>\n",
       "      <th>813</th>\n",
       "      <td>This is one of the best movies I have ever see...</td>\n",
       "      <td>1</td>\n",
       "    </tr>\n",
       "    <tr>\n",
       "      <th>11248</th>\n",
       "      <td>This movie took me by surprise. The opening cr...</td>\n",
       "      <td>1</td>\n",
       "    </tr>\n",
       "    <tr>\n",
       "      <th>1436</th>\n",
       "      <td>I am salivating for the sequels. I needed some...</td>\n",
       "      <td>1</td>\n",
       "    </tr>\n",
       "  </tbody>\n",
       "</table>\n",
       "</div>"
      ],
      "text/plain": [
       "                                                    text  sentiment\n",
       "4300   Bug Juice changed my life. I Know it sounds st...          1\n",
       "9536   As many of today's movies are guilty of, the p...          1\n",
       "813    This is one of the best movies I have ever see...          1\n",
       "11248  This movie took me by surprise. The opening cr...          1\n",
       "1436   I am salivating for the sequels. I needed some...          1"
      ]
     },
     "execution_count": 69,
     "metadata": {
      "tags": []
     },
     "output_type": "execute_result"
    }
   ],
   "source": [
    "test.head()"
   ]
  },
  {
   "cell_type": "markdown",
   "metadata": {
    "colab_type": "text",
    "id": "XMsPEhKNv9My"
   },
   "source": [
    "You should see the output like this:\n",
    "\n",
    "![](https://github.com/wshuyi/github_pub_img/raw/master/assets/2019-03-25-21-23-06-418103.png)"
   ]
  },
  {
   "cell_type": "code",
   "execution_count": 70,
   "metadata": {
    "colab": {
     "base_uri": "https://localhost:8080/",
     "height": 204
    },
    "colab_type": "code",
    "id": "TVOUQNtIsR0o",
    "outputId": "7c4f1e0c-f1f2-4969-a20b-4de347947410"
   },
   "outputs": [
    {
     "data": {
      "text/html": [
       "<div>\n",
       "<style scoped>\n",
       "    .dataframe tbody tr th:only-of-type {\n",
       "        vertical-align: middle;\n",
       "    }\n",
       "\n",
       "    .dataframe tbody tr th {\n",
       "        vertical-align: top;\n",
       "    }\n",
       "\n",
       "    .dataframe thead th {\n",
       "        text-align: right;\n",
       "    }\n",
       "</style>\n",
       "<table border=\"1\" class=\"dataframe\">\n",
       "  <thead>\n",
       "    <tr style=\"text-align: right;\">\n",
       "      <th></th>\n",
       "      <th>text</th>\n",
       "      <th>sentiment</th>\n",
       "    </tr>\n",
       "  </thead>\n",
       "  <tbody>\n",
       "    <tr>\n",
       "      <th>15979</th>\n",
       "      <td>This is my opinion of this movie, expressed in...</td>\n",
       "      <td>0</td>\n",
       "    </tr>\n",
       "    <tr>\n",
       "      <th>22182</th>\n",
       "      <td>Why can't a movie be rated a zero? Or even a n...</td>\n",
       "      <td>0</td>\n",
       "    </tr>\n",
       "    <tr>\n",
       "      <th>20116</th>\n",
       "      <td>The Gun is probably the worst film I've ever s...</td>\n",
       "      <td>0</td>\n",
       "    </tr>\n",
       "    <tr>\n",
       "      <th>24234</th>\n",
       "      <td>If you are thinking of going to see this film ...</td>\n",
       "      <td>0</td>\n",
       "    </tr>\n",
       "    <tr>\n",
       "      <th>21863</th>\n",
       "      <td>This movie was like a gathering of people that...</td>\n",
       "      <td>0</td>\n",
       "    </tr>\n",
       "  </tbody>\n",
       "</table>\n",
       "</div>"
      ],
      "text/plain": [
       "                                                    text  sentiment\n",
       "15979  This is my opinion of this movie, expressed in...          0\n",
       "22182  Why can't a movie be rated a zero? Or even a n...          0\n",
       "20116  The Gun is probably the worst film I've ever s...          0\n",
       "24234  If you are thinking of going to see this film ...          0\n",
       "21863  This movie was like a gathering of people that...          0"
      ]
     },
     "execution_count": 70,
     "metadata": {
      "tags": []
     },
     "output_type": "execute_result"
    }
   ],
   "source": [
    "test.tail()"
   ]
  },
  {
   "cell_type": "markdown",
   "metadata": {
    "colab_type": "text",
    "id": "4Zf1RhB3wFMs"
   },
   "source": [
    "You should see the output like this:\n",
    "\n",
    "![](https://github.com/wshuyi/github_pub_img/raw/master/assets/2019-03-25-21-23-16-486933.png)"
   ]
  },
  {
   "cell_type": "markdown",
   "metadata": {
    "colab_type": "text",
    "id": "R7FJoBdhsR0z"
   },
   "source": [
    "## Classification with TextBlob"
   ]
  },
  {
   "cell_type": "markdown",
   "metadata": {
    "colab_type": "text",
    "id": "qASzg7UgwLZU"
   },
   "source": [
    "**Question 4: (30 points)**\n",
    "\n",
    "Use [textblob](https://textblob.readthedocs.io/en/dev/quickstart.html#sentiment-analysis) to do sentiment analysis on **test** data, and make a **`classification_report`** using the prediction result and real sentiment labels. (Hint: you can refer to [this link](https://scikit-learn.org/stable/modules/generated/sklearn.metrics.classification_report.html) for documentation.)\n",
    "\n",
    "\n",
    "\n",
    "\n",
    "\n",
    "\n"
   ]
  },
  {
   "cell_type": "code",
   "execution_count": 0,
   "metadata": {
    "colab": {},
    "colab_type": "code",
    "id": "tUOvoJQg0aQN"
   },
   "outputs": [],
   "source": [
    "from textblob import TextBlob"
   ]
  },
  {
   "cell_type": "code",
   "execution_count": 0,
   "metadata": {
    "colab": {},
    "colab_type": "code",
    "id": "1esdMMy1qa0w"
   },
   "outputs": [],
   "source": [
    "pred=[]\n",
    "for x in range(len(test.text)):\n",
    "  test_str=test.iloc[x].text\n",
    "  blob=TextBlob(test_str)\n",
    "  a=blob.sentiment.polarity\n",
    "  if(a<=0):\n",
    "    pred.append(0);\n",
    "  else:\n",
    "    pred.append(1);"
   ]
  },
  {
   "cell_type": "code",
   "execution_count": 0,
   "metadata": {
    "colab": {},
    "colab_type": "code",
    "id": "jyPKC5p6qdZq"
   },
   "outputs": [],
   "source": [
    "def get_sentiment(text):\n",
    "  pred=TextBlob(text).sentiment[0]\n",
    "  if pred > 0:\n",
    "    return 1\n",
    "  else:\n",
    "    return 0"
   ]
  },
  {
   "cell_type": "code",
   "execution_count": 0,
   "metadata": {
    "colab": {},
    "colab_type": "code",
    "id": "kWistcfDp1a1"
   },
   "outputs": [],
   "source": [
    "test[\"pred\"]=test.text.apply(get_sentiment)"
   ]
  },
  {
   "cell_type": "code",
   "execution_count": 0,
   "metadata": {
    "colab": {},
    "colab_type": "code",
    "id": "3huLCLz9p1db"
   },
   "outputs": [],
   "source": [
    "from sklearn import metrics"
   ]
  },
  {
   "cell_type": "code",
   "execution_count": 83,
   "metadata": {
    "colab": {
     "base_uri": "https://localhost:8080/",
     "height": 170
    },
    "colab_type": "code",
    "id": "TqLZs59Yp1gJ",
    "outputId": "a253f729-3fae-462f-86be-fb4b7ca44cb6"
   },
   "outputs": [
    {
     "name": "stdout",
     "output_type": "stream",
     "text": [
      "              precision    recall  f1-score   support\n",
      "\n",
      "           0       0.91      0.43      0.59       500\n",
      "           1       0.63      0.96      0.76       500\n",
      "\n",
      "   micro avg       0.69      0.69      0.69      1000\n",
      "   macro avg       0.77      0.69      0.67      1000\n",
      "weighted avg       0.77      0.69      0.67      1000\n",
      "\n"
     ]
    }
   ],
   "source": [
    "print(metrics.classification_report(test.sentiment, test.pred))"
   ]
  },
  {
   "cell_type": "markdown",
   "metadata": {
    "colab_type": "text",
    "id": "dL7EXDcqw5VZ"
   },
   "source": [
    "You should see the output like this:\n",
    "\n",
    "![](https://github.com/wshuyi/github_pub_img/raw/master/assets/2019-03-25-21-23-27-649327.png)"
   ]
  },
  {
   "cell_type": "markdown",
   "metadata": {
    "colab_type": "text",
    "id": "ZGgNaxOssR1I"
   },
   "source": [
    "## Classification with Scikit-learn"
   ]
  },
  {
   "cell_type": "markdown",
   "metadata": {
    "colab_type": "text",
    "id": "UVeSXOs3xbiJ"
   },
   "source": [
    "**Question 5: (40 points)**\n",
    "\n",
    "Train a [MultinomialNB Model](https://scikit-learn.org/stable/modules/generated/sklearn.naive_bayes.MultinomialNB.html) from Scikit-learn with the **train** data. Make sure you convert the text data into high dimensional (2000) vectors with [CountVectorizer](https://scikit-learn.org/stable/modules/generated/sklearn.feature_extraction.text.CountVectorizer.html), and using proper parameters to filter the tokens. Then do sentiment analysis on **test** data, and make a **`classification_report`** using the prediction result and real sentiment labels. (Hint: you can refer to [this link](https://scikit-learn.org/stable/modules/generated/sklearn.metrics.classification_report.html) for documentation.)\n",
    "\n",
    "\n",
    "\n",
    "\n",
    "\n",
    "\n"
   ]
  },
  {
   "cell_type": "code",
   "execution_count": 0,
   "metadata": {
    "colab": {},
    "colab_type": "code",
    "id": "U4SKVnQt5kHv"
   },
   "outputs": [],
   "source": [
    "from sklearn.feature_extraction.text import CountVectorizer"
   ]
  },
  {
   "cell_type": "code",
   "execution_count": 88,
   "metadata": {
    "colab": {
     "base_uri": "https://localhost:8080/",
     "height": 51
    },
    "colab_type": "code",
    "id": "oCctlNjYsJ_t",
    "outputId": "7852a109-3ec6-480c-bf55-bae198b892e3"
   },
   "outputs": [
    {
     "data": {
      "text/plain": [
       "<2000x2000 sparse matrix of type '<class 'numpy.int64'>'\n",
       "\twith 114420 stored elements in Compressed Sparse Row format>"
      ]
     },
     "execution_count": 88,
     "metadata": {
      "tags": []
     },
     "output_type": "execute_result"
    }
   ],
   "source": [
    "vect = CountVectorizer(stop_words='english', token_pattern =u'(?u)\\\\b[^\\\\d\\\\W]\\\\w+\\\\b', max_df=0.8, min_df=2, max_features=2000)\n",
    "vect.fit_transform(train.text)"
   ]
  },
  {
   "cell_type": "code",
   "execution_count": 0,
   "metadata": {
    "colab": {},
    "colab_type": "code",
    "id": "axqluszKsKB0"
   },
   "outputs": [],
   "source": [
    "X_train = vect.fit_transform(train.text)\n",
    "y_train = train.sentiment"
   ]
  },
  {
   "cell_type": "code",
   "execution_count": 0,
   "metadata": {
    "colab": {},
    "colab_type": "code",
    "id": "IMWU00uysKEA"
   },
   "outputs": [],
   "source": [
    "from sklearn.naive_bayes import MultinomialNB"
   ]
  },
  {
   "cell_type": "code",
   "execution_count": 0,
   "metadata": {
    "colab": {},
    "colab_type": "code",
    "id": "vp9sm7lOsKGa"
   },
   "outputs": [],
   "source": [
    "nb = MultinomialNB()"
   ]
  },
  {
   "cell_type": "code",
   "execution_count": 93,
   "metadata": {
    "colab": {
     "base_uri": "https://localhost:8080/",
     "height": 34
    },
    "colab_type": "code",
    "id": "t_LQjp8htSrW",
    "outputId": "59b3284f-883a-416f-939c-49f6eafccadf"
   },
   "outputs": [
    {
     "data": {
      "text/plain": [
       "MultinomialNB(alpha=1.0, class_prior=None, fit_prior=True)"
      ]
     },
     "execution_count": 93,
     "metadata": {
      "tags": []
     },
     "output_type": "execute_result"
    }
   ],
   "source": [
    "nb.fit(X_train, y_train)"
   ]
  },
  {
   "cell_type": "code",
   "execution_count": 0,
   "metadata": {
    "colab": {},
    "colab_type": "code",
    "id": "dJzdxZuOtStg"
   },
   "outputs": [],
   "source": [
    "X_test = vect.transform(test.text)\n",
    "y_test = test.sentiment"
   ]
  },
  {
   "cell_type": "code",
   "execution_count": 0,
   "metadata": {
    "colab": {},
    "colab_type": "code",
    "id": "Z37Wzo2CtSvi"
   },
   "outputs": [],
   "source": [
    "y_pred = nb.predict(X_test)"
   ]
  },
  {
   "cell_type": "code",
   "execution_count": 97,
   "metadata": {
    "colab": {
     "base_uri": "https://localhost:8080/",
     "height": 1071
    },
    "colab_type": "code",
    "id": "Q3wbjDqotSyK",
    "outputId": "b34d8130-11c3-4343-bc07-1aea44a71bbb"
   },
   "outputs": [
    {
     "data": {
      "text/plain": [
       "4300     1\n",
       "9536     1\n",
       "813      1\n",
       "11248    1\n",
       "1436     1\n",
       "4804     1\n",
       "4779     1\n",
       "4642     1\n",
       "11605    1\n",
       "2811     1\n",
       "35       1\n",
       "3258     1\n",
       "4292     1\n",
       "9999     1\n",
       "6348     1\n",
       "3611     1\n",
       "7462     1\n",
       "10547    1\n",
       "3038     1\n",
       "1074     1\n",
       "10764    1\n",
       "1847     1\n",
       "5149     1\n",
       "7843     1\n",
       "478      1\n",
       "11862    1\n",
       "11365    1\n",
       "146      1\n",
       "10960    1\n",
       "6249     1\n",
       "        ..\n",
       "18265    0\n",
       "24417    0\n",
       "14942    0\n",
       "24762    0\n",
       "22807    0\n",
       "21920    0\n",
       "22831    0\n",
       "19209    0\n",
       "16070    0\n",
       "18405    0\n",
       "15527    0\n",
       "16125    0\n",
       "24834    0\n",
       "17753    0\n",
       "13932    0\n",
       "14368    0\n",
       "19657    0\n",
       "16149    0\n",
       "24957    0\n",
       "19805    0\n",
       "17145    0\n",
       "19117    0\n",
       "22241    0\n",
       "17969    0\n",
       "16443    0\n",
       "15979    0\n",
       "22182    0\n",
       "20116    0\n",
       "24234    0\n",
       "21863    0\n",
       "Name: sentiment, Length: 1000, dtype: int64"
      ]
     },
     "execution_count": 97,
     "metadata": {
      "tags": []
     },
     "output_type": "execute_result"
    }
   ],
   "source": [
    "y_test"
   ]
  },
  {
   "cell_type": "code",
   "execution_count": 98,
   "metadata": {
    "colab": {
     "base_uri": "https://localhost:8080/",
     "height": 170
    },
    "colab_type": "code",
    "id": "BZX39Zl9tS0x",
    "outputId": "82e86ccb-c1dd-4fca-93ac-4d1810478a07"
   },
   "outputs": [
    {
     "name": "stdout",
     "output_type": "stream",
     "text": [
      "              precision    recall  f1-score   support\n",
      "\n",
      "           0       0.79      0.85      0.82       500\n",
      "           1       0.84      0.78      0.81       500\n",
      "\n",
      "   micro avg       0.81      0.81      0.81      1000\n",
      "   macro avg       0.82      0.81      0.81      1000\n",
      "weighted avg       0.82      0.81      0.81      1000\n",
      "\n"
     ]
    }
   ],
   "source": [
    "print(metrics.classification_report(y_test, y_pred))"
   ]
  },
  {
   "cell_type": "markdown",
   "metadata": {
    "colab_type": "text",
    "id": "kvTUJjs7yqr-"
   },
   "source": [
    "You should see the output like this:\n",
    "\n",
    "![](https://github.com/wshuyi/github_pub_img/raw/master/assets/2019-03-25-21-23-45-528500.png)"
   ]
  },
  {
   "cell_type": "code",
   "execution_count": 0,
   "metadata": {
    "colab": {},
    "colab_type": "code",
    "id": "VezgLVrfqFyW"
   },
   "outputs": [],
   "source": []
  }
 ],
 "metadata": {
  "colab": {
   "collapsed_sections": [],
   "name": "Fellers_classwork3",
   "provenance": [],
   "toc_visible": true,
   "version": "0.3.2"
  },
  "kernelspec": {
   "display_name": "Python 3",
   "language": "python",
   "name": "python3"
  },
  "language_info": {
   "codemirror_mode": {
    "name": "ipython",
    "version": 3
   },
   "file_extension": ".py",
   "mimetype": "text/x-python",
   "name": "python",
   "nbconvert_exporter": "python",
   "pygments_lexer": "ipython3",
   "version": "3.7.1"
  }
 },
 "nbformat": 4,
 "nbformat_minor": 1
}
